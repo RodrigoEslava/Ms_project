{
  "nbformat": 4,
  "nbformat_minor": 0,
  "metadata": {
    "colab": {
      "provenance": [],
      "include_colab_link": true
    },
    "kernelspec": {
      "name": "python3",
      "display_name": "Python 3"
    },
    "language_info": {
      "name": "python"
    },
    "widgets": {
      "application/vnd.jupyter.widget-state+json": {
        "0da44b67b5e9457f9e59e37a6f5ae2d8": {
          "model_module": "@jupyter-widgets/controls",
          "model_name": "HBoxModel",
          "model_module_version": "1.5.0",
          "state": {
            "_dom_classes": [],
            "_model_module": "@jupyter-widgets/controls",
            "_model_module_version": "1.5.0",
            "_model_name": "HBoxModel",
            "_view_count": null,
            "_view_module": "@jupyter-widgets/controls",
            "_view_module_version": "1.5.0",
            "_view_name": "HBoxView",
            "box_style": "",
            "children": [
              "IPY_MODEL_d46b0b10ed17435a81a427f4a30ec968",
              "IPY_MODEL_545ff8dd482548218f8efd47b9d1d07f",
              "IPY_MODEL_3a8be6a3c9064f8f86c7a994e57b0b6e"
            ],
            "layout": "IPY_MODEL_627be68882e148cb85746df52c123b67"
          }
        },
        "d46b0b10ed17435a81a427f4a30ec968": {
          "model_module": "@jupyter-widgets/controls",
          "model_name": "HTMLModel",
          "model_module_version": "1.5.0",
          "state": {
            "_dom_classes": [],
            "_model_module": "@jupyter-widgets/controls",
            "_model_module_version": "1.5.0",
            "_model_name": "HTMLModel",
            "_view_count": null,
            "_view_module": "@jupyter-widgets/controls",
            "_view_module_version": "1.5.0",
            "_view_name": "HTMLView",
            "description": "",
            "description_tooltip": null,
            "layout": "IPY_MODEL_87db294410b44ce78532a0b3674fe0a5",
            "placeholder": "​",
            "style": "IPY_MODEL_1f21449c9a3e4a8483397c5c209577a4",
            "value": "Computing transition probabilities: 100%"
          }
        },
        "545ff8dd482548218f8efd47b9d1d07f": {
          "model_module": "@jupyter-widgets/controls",
          "model_name": "FloatProgressModel",
          "model_module_version": "1.5.0",
          "state": {
            "_dom_classes": [],
            "_model_module": "@jupyter-widgets/controls",
            "_model_module_version": "1.5.0",
            "_model_name": "FloatProgressModel",
            "_view_count": null,
            "_view_module": "@jupyter-widgets/controls",
            "_view_module_version": "1.5.0",
            "_view_name": "ProgressView",
            "bar_style": "success",
            "description": "",
            "description_tooltip": null,
            "layout": "IPY_MODEL_5eae49b35d424b6f9bd15d60c8be8a57",
            "max": 19083,
            "min": 0,
            "orientation": "horizontal",
            "style": "IPY_MODEL_2392485d51ba49f59a6c56d47e969e7d",
            "value": 19083
          }
        },
        "3a8be6a3c9064f8f86c7a994e57b0b6e": {
          "model_module": "@jupyter-widgets/controls",
          "model_name": "HTMLModel",
          "model_module_version": "1.5.0",
          "state": {
            "_dom_classes": [],
            "_model_module": "@jupyter-widgets/controls",
            "_model_module_version": "1.5.0",
            "_model_name": "HTMLModel",
            "_view_count": null,
            "_view_module": "@jupyter-widgets/controls",
            "_view_module_version": "1.5.0",
            "_view_name": "HTMLView",
            "description": "",
            "description_tooltip": null,
            "layout": "IPY_MODEL_7f0bb5dd29914be0a31539bd217667f8",
            "placeholder": "​",
            "style": "IPY_MODEL_c9406ebf602a42a998b674cd0df5b881",
            "value": " 19083/19083 [04:08&lt;00:00, 1517.87it/s]"
          }
        },
        "627be68882e148cb85746df52c123b67": {
          "model_module": "@jupyter-widgets/base",
          "model_name": "LayoutModel",
          "model_module_version": "1.2.0",
          "state": {
            "_model_module": "@jupyter-widgets/base",
            "_model_module_version": "1.2.0",
            "_model_name": "LayoutModel",
            "_view_count": null,
            "_view_module": "@jupyter-widgets/base",
            "_view_module_version": "1.2.0",
            "_view_name": "LayoutView",
            "align_content": null,
            "align_items": null,
            "align_self": null,
            "border": null,
            "bottom": null,
            "display": null,
            "flex": null,
            "flex_flow": null,
            "grid_area": null,
            "grid_auto_columns": null,
            "grid_auto_flow": null,
            "grid_auto_rows": null,
            "grid_column": null,
            "grid_gap": null,
            "grid_row": null,
            "grid_template_areas": null,
            "grid_template_columns": null,
            "grid_template_rows": null,
            "height": null,
            "justify_content": null,
            "justify_items": null,
            "left": null,
            "margin": null,
            "max_height": null,
            "max_width": null,
            "min_height": null,
            "min_width": null,
            "object_fit": null,
            "object_position": null,
            "order": null,
            "overflow": null,
            "overflow_x": null,
            "overflow_y": null,
            "padding": null,
            "right": null,
            "top": null,
            "visibility": null,
            "width": null
          }
        },
        "87db294410b44ce78532a0b3674fe0a5": {
          "model_module": "@jupyter-widgets/base",
          "model_name": "LayoutModel",
          "model_module_version": "1.2.0",
          "state": {
            "_model_module": "@jupyter-widgets/base",
            "_model_module_version": "1.2.0",
            "_model_name": "LayoutModel",
            "_view_count": null,
            "_view_module": "@jupyter-widgets/base",
            "_view_module_version": "1.2.0",
            "_view_name": "LayoutView",
            "align_content": null,
            "align_items": null,
            "align_self": null,
            "border": null,
            "bottom": null,
            "display": null,
            "flex": null,
            "flex_flow": null,
            "grid_area": null,
            "grid_auto_columns": null,
            "grid_auto_flow": null,
            "grid_auto_rows": null,
            "grid_column": null,
            "grid_gap": null,
            "grid_row": null,
            "grid_template_areas": null,
            "grid_template_columns": null,
            "grid_template_rows": null,
            "height": null,
            "justify_content": null,
            "justify_items": null,
            "left": null,
            "margin": null,
            "max_height": null,
            "max_width": null,
            "min_height": null,
            "min_width": null,
            "object_fit": null,
            "object_position": null,
            "order": null,
            "overflow": null,
            "overflow_x": null,
            "overflow_y": null,
            "padding": null,
            "right": null,
            "top": null,
            "visibility": null,
            "width": null
          }
        },
        "1f21449c9a3e4a8483397c5c209577a4": {
          "model_module": "@jupyter-widgets/controls",
          "model_name": "DescriptionStyleModel",
          "model_module_version": "1.5.0",
          "state": {
            "_model_module": "@jupyter-widgets/controls",
            "_model_module_version": "1.5.0",
            "_model_name": "DescriptionStyleModel",
            "_view_count": null,
            "_view_module": "@jupyter-widgets/base",
            "_view_module_version": "1.2.0",
            "_view_name": "StyleView",
            "description_width": ""
          }
        },
        "5eae49b35d424b6f9bd15d60c8be8a57": {
          "model_module": "@jupyter-widgets/base",
          "model_name": "LayoutModel",
          "model_module_version": "1.2.0",
          "state": {
            "_model_module": "@jupyter-widgets/base",
            "_model_module_version": "1.2.0",
            "_model_name": "LayoutModel",
            "_view_count": null,
            "_view_module": "@jupyter-widgets/base",
            "_view_module_version": "1.2.0",
            "_view_name": "LayoutView",
            "align_content": null,
            "align_items": null,
            "align_self": null,
            "border": null,
            "bottom": null,
            "display": null,
            "flex": null,
            "flex_flow": null,
            "grid_area": null,
            "grid_auto_columns": null,
            "grid_auto_flow": null,
            "grid_auto_rows": null,
            "grid_column": null,
            "grid_gap": null,
            "grid_row": null,
            "grid_template_areas": null,
            "grid_template_columns": null,
            "grid_template_rows": null,
            "height": null,
            "justify_content": null,
            "justify_items": null,
            "left": null,
            "margin": null,
            "max_height": null,
            "max_width": null,
            "min_height": null,
            "min_width": null,
            "object_fit": null,
            "object_position": null,
            "order": null,
            "overflow": null,
            "overflow_x": null,
            "overflow_y": null,
            "padding": null,
            "right": null,
            "top": null,
            "visibility": null,
            "width": null
          }
        },
        "2392485d51ba49f59a6c56d47e969e7d": {
          "model_module": "@jupyter-widgets/controls",
          "model_name": "ProgressStyleModel",
          "model_module_version": "1.5.0",
          "state": {
            "_model_module": "@jupyter-widgets/controls",
            "_model_module_version": "1.5.0",
            "_model_name": "ProgressStyleModel",
            "_view_count": null,
            "_view_module": "@jupyter-widgets/base",
            "_view_module_version": "1.2.0",
            "_view_name": "StyleView",
            "bar_color": null,
            "description_width": ""
          }
        },
        "7f0bb5dd29914be0a31539bd217667f8": {
          "model_module": "@jupyter-widgets/base",
          "model_name": "LayoutModel",
          "model_module_version": "1.2.0",
          "state": {
            "_model_module": "@jupyter-widgets/base",
            "_model_module_version": "1.2.0",
            "_model_name": "LayoutModel",
            "_view_count": null,
            "_view_module": "@jupyter-widgets/base",
            "_view_module_version": "1.2.0",
            "_view_name": "LayoutView",
            "align_content": null,
            "align_items": null,
            "align_self": null,
            "border": null,
            "bottom": null,
            "display": null,
            "flex": null,
            "flex_flow": null,
            "grid_area": null,
            "grid_auto_columns": null,
            "grid_auto_flow": null,
            "grid_auto_rows": null,
            "grid_column": null,
            "grid_gap": null,
            "grid_row": null,
            "grid_template_areas": null,
            "grid_template_columns": null,
            "grid_template_rows": null,
            "height": null,
            "justify_content": null,
            "justify_items": null,
            "left": null,
            "margin": null,
            "max_height": null,
            "max_width": null,
            "min_height": null,
            "min_width": null,
            "object_fit": null,
            "object_position": null,
            "order": null,
            "overflow": null,
            "overflow_x": null,
            "overflow_y": null,
            "padding": null,
            "right": null,
            "top": null,
            "visibility": null,
            "width": null
          }
        },
        "c9406ebf602a42a998b674cd0df5b881": {
          "model_module": "@jupyter-widgets/controls",
          "model_name": "DescriptionStyleModel",
          "model_module_version": "1.5.0",
          "state": {
            "_model_module": "@jupyter-widgets/controls",
            "_model_module_version": "1.5.0",
            "_model_name": "DescriptionStyleModel",
            "_view_count": null,
            "_view_module": "@jupyter-widgets/base",
            "_view_module_version": "1.2.0",
            "_view_name": "StyleView",
            "description_width": ""
          }
        }
      }
    }
  },
  "cells": [
    {
      "cell_type": "markdown",
      "metadata": {
        "id": "view-in-github",
        "colab_type": "text"
      },
      "source": [
        "<a href=\"https://colab.research.google.com/github/RodrigoEslava/Ms_project/blob/main/node2vec.ipynb\" target=\"_parent\"><img src=\"https://colab.research.google.com/assets/colab-badge.svg\" alt=\"Open In Colab\"/></a>"
      ]
    },
    {
      "cell_type": "code",
      "execution_count": null,
      "metadata": {
        "colab": {
          "base_uri": "https://localhost:8080/"
        },
        "id": "o37SCXJGHaiy",
        "outputId": "848faa25-9a87-49e0-be67-b8e99354bafe"
      },
      "outputs": [
        {
          "output_type": "stream",
          "name": "stdout",
          "text": [
            "Looking in indexes: https://pypi.org/simple, https://us-python.pkg.dev/colab-wheels/public/simple/\n",
            "Requirement already satisfied: node2vec in /usr/local/lib/python3.7/dist-packages (0.4.3)\n",
            "Requirement already satisfied: joblib>=0.13.2 in /usr/local/lib/python3.7/dist-packages (from node2vec) (1.2.0)\n",
            "Requirement already satisfied: numpy in /usr/local/lib/python3.7/dist-packages (from node2vec) (1.21.6)\n",
            "Requirement already satisfied: networkx in /usr/local/lib/python3.7/dist-packages (from node2vec) (2.6.3)\n",
            "Requirement already satisfied: gensim in /usr/local/lib/python3.7/dist-packages (from node2vec) (3.6.0)\n",
            "Requirement already satisfied: tqdm in /usr/local/lib/python3.7/dist-packages (from node2vec) (4.64.1)\n",
            "Requirement already satisfied: smart-open>=1.2.1 in /usr/local/lib/python3.7/dist-packages (from gensim->node2vec) (5.2.1)\n",
            "Requirement already satisfied: scipy>=0.18.1 in /usr/local/lib/python3.7/dist-packages (from gensim->node2vec) (1.7.3)\n",
            "Requirement already satisfied: six>=1.5.0 in /usr/local/lib/python3.7/dist-packages (from gensim->node2vec) (1.15.0)\n"
          ]
        }
      ],
      "source": [
        "pip install node2vec"
      ]
    },
    {
      "cell_type": "code",
      "source": [
        "#Libraries\n",
        "import pandas as pd\n",
        "import numpy as np\n",
        "import matplotlib.pyplot as plt\n",
        "\n",
        "\n",
        "import gensim\n",
        "import networkx as nx\n",
        "from node2vec import Node2Vec\n",
        "\n",
        "from pandas_profiling import ProfileReport\n",
        "\n",
        "import matplotlib.pyplot as plt\n",
        "\n",
        "from networkx import DiGraph\n"
      ],
      "metadata": {
        "id": "5im1D4D1Hvd2"
      },
      "execution_count": null,
      "outputs": []
    },
    {
      "cell_type": "code",
      "source": [
        "#Dataframe\n",
        "\n",
        "#interactome = pd.read_csv(\"bio-decagon-ppi.csv\")\n",
        "#interactome"
      ],
      "metadata": {
        "id": "zDQG5iRtII4B"
      },
      "execution_count": null,
      "outputs": []
    },
    {
      "cell_type": "code",
      "source": [
        "#Defining log object to notify the steps updates\n",
        "\n",
        "class AbstractSimpleLog():\n",
        "    def log(self, msg):\n",
        "        raise Exception(\"log method must be implemented\")\n",
        "\n",
        "class PrintLog(AbstractSimpleLog):\n",
        "    def log(self, msg):\n",
        "        print(msg)\n",
        "        \n",
        "\n",
        "\n",
        "#Default name for embeddign file\n",
        "EMBEDDING_FILE = \"embeddings.txt\""
      ],
      "metadata": {
        "id": "hiSUg5-A8g_k"
      },
      "execution_count": null,
      "outputs": []
    },
    {
      "cell_type": "code",
      "source": [
        "#Log object. To long computations\n",
        "\n",
        "logger = PrintLog()\n",
        "\n",
        "\n",
        "#Graph embedding\n",
        "\n",
        "#logger.log(\"Loading graph from {}\".format(interactome))\n",
        "graph = nx.read_edgelist(\"bio-decagon-ppi.csv\", delimiter=\",\", create_using=DiGraph())\n",
        "print(graph)\n",
        "logger.log(\"Graph loaded\")\n",
        "\n",
        "logger.log(\"Computing transition probabilities\")\n",
        "n2v = Node2Vec(graph, dimensions= 128, walk_length=80, num_walks=50, workers=10, p=1, q=1)\n",
        "logger.log(\"Transitions probabilities computed\")\n",
        "\n",
        "logger.log(\"Starting Node2Vec embedding\")\n",
        "n2v_model = n2v.fit(window=80, min_count=1, batch_words=64)\n",
        "logger.log(\"Node2Vec embedding created\")\n",
        "\n",
        "logger.log(\"Saving embedding file\")\n",
        "n2v_model.wv.save_word2vec_format(EMBEDDING_FILE)\n",
        "logger.log(\"Embedding file saved\")"
      ],
      "metadata": {
        "id": "htGMkU7PRHIO",
        "colab": {
          "base_uri": "https://localhost:8080/",
          "height": 223,
          "referenced_widgets": [
            "0da44b67b5e9457f9e59e37a6f5ae2d8",
            "d46b0b10ed17435a81a427f4a30ec968",
            "545ff8dd482548218f8efd47b9d1d07f",
            "3a8be6a3c9064f8f86c7a994e57b0b6e",
            "627be68882e148cb85746df52c123b67",
            "87db294410b44ce78532a0b3674fe0a5",
            "1f21449c9a3e4a8483397c5c209577a4",
            "5eae49b35d424b6f9bd15d60c8be8a57",
            "2392485d51ba49f59a6c56d47e969e7d",
            "7f0bb5dd29914be0a31539bd217667f8",
            "c9406ebf602a42a998b674cd0df5b881"
          ]
        },
        "outputId": "ee71ede9-6ad9-4c55-e5d6-0c3cec5e1cb8"
      },
      "execution_count": null,
      "outputs": [
        {
          "output_type": "stream",
          "name": "stdout",
          "text": [
            "DiGraph with 19083 nodes and 715613 edges\n",
            "Graph loaded\n",
            "Computing transition probabilities\n"
          ]
        },
        {
          "output_type": "display_data",
          "data": {
            "text/plain": [
              "Computing transition probabilities:   0%|          | 0/19083 [00:00<?, ?it/s]"
            ],
            "application/vnd.jupyter.widget-view+json": {
              "version_major": 2,
              "version_minor": 0,
              "model_id": "0da44b67b5e9457f9e59e37a6f5ae2d8"
            }
          },
          "metadata": {}
        },
        {
          "output_type": "stream",
          "name": "stderr",
          "text": [
            "/usr/local/lib/python3.7/dist-packages/joblib/externals/loky/process_executor.py:703: UserWarning: A worker stopped while some jobs were given to the executor. This can be caused by a too short worker timeout or by a memory leak.\n",
            "  \"timeout or by a memory leak.\", UserWarning\n"
          ]
        },
        {
          "output_type": "stream",
          "name": "stdout",
          "text": [
            "Transitions probabilities computed\n",
            "Starting Node2Vec embedding\n",
            "Node2Vec embedding created\n",
            "Saving embedding file\n",
            "Embedding file saved\n"
          ]
        }
      ]
    },
    {
      "cell_type": "code",
      "source": [
        "#Data processing\n",
        "import numpy as np\n",
        "from numpy import array\n",
        "\n",
        "vectors = np.loadtxt('embeddings.txt',dtype='str', delimiter=' ',skiprows=1)\n",
        "print(vectors)\n",
        "def to_embedded(n):\n",
        "    return vectors[n,:]"
      ],
      "metadata": {
        "colab": {
          "base_uri": "https://localhost:8080/"
        },
        "id": "TfhbDYWfPLwX",
        "outputId": "1698b426-86ff-406d-815d-48e54b4eecb1"
      },
      "execution_count": null,
      "outputs": [
        {
          "output_type": "stream",
          "name": "stdout",
          "text": [
            "[['1' '0.00031664214' '-0.00268801' '-0.0012716783' '-0.0014063002'\n",
            "  '-0.0031062057' '-0.00025499688' '0.0017322407' '0.0020708241'\n",
            "  '0.0010895632' '-0.002538992' '0.0010491231' '-0.0032008209'\n",
            "  '0.0023912615' '-0.00076631166' '-0.00056422944' '0.00013610275'\n",
            "  '-0.000187243' '0.0031824948' '-0.0027144183' '-0.0014433701'\n",
            "  '-0.00028030228' '-0.0020806482' '-0.0006883262' '0.002774155'\n",
            "  '0.0025103465' '0.0030842528' '0.00011402146' '-0.00021823759'\n",
            "  '-0.0019151795' '0.0021005024' '0.0006979263' '4.3299297e-05'\n",
            "  '-1.2273629e-05' '0.001091431' '-0.0027518054' '-0.00096956856'\n",
            "  '0.0033510746' '0.0014740465' '0.0024899726' '0.0039038935'\n",
            "  '0.0008568274' '0.0019957465' '-0.00029123903' '0.0032778115'\n",
            "  '0.003343158' '-0.003768144' '0.0014417316' '-0.0034368767'\n",
            "  '-0.0030408779' '-0.003167171' '-0.0035816426' '-0.0014683544'\n",
            "  '-0.0015886306' '0.0025514502' '0.0038004967' '0.00088678784'\n",
            "  '0.0037736448' '-0.00018047632' '-0.003017573' '0.0035777169'\n",
            "  '-0.0003363704' '0.0037634666' '0.0028183796' '2.5723328e-05'\n",
            "  '0.0031609498' '-0.0033785063' '-0.0010423629' '0.0017278411'\n",
            "  '0.00087328977' '-0.0003784895' '0.0012517124' '0.0034737762'\n",
            "  '0.0010758105' '0.0030477562' '0.0006097899' '0.0026152057'\n",
            "  '0.0006816077' '-0.0030172877' '0.00017983407' '-0.0024154477'\n",
            "  '-0.00016882383' '-0.0021337732' '-0.0031921237' '-0.0038512254'\n",
            "  '-5.526911e-05' '-0.0022825485' '0.001611663' '0.00097335083'\n",
            "  '-0.0018079234' '0.0031737825' '0.0029470704' '-0.0016850232'\n",
            "  '0.003045634' '-0.0023745366' '-0.0015805116' '-0.00020018592'\n",
            "  '0.00063753943' '-0.003168161' '0.0036553303' '0.002632634'\n",
            "  '-0.0027371477' '-0.0007086532' '-0.0013051346' '-0.0026707528'\n",
            "  '0.0029141998' '-0.0010127778' '-9.133465e-05' '-0.0032259014'\n",
            "  '-0.0021739912' '-0.003547743' '-0.0018732303' '0.0037611043'\n",
            "  '-0.0023864957' '0.0028865812' '1.47699275e-05' '0.0020000774'\n",
            "  '-0.0037009972' '0.00028810368' '0.0021008619' '0.00042626544'\n",
            "  '-0.0030584172' '0.002664565' '-0.0036911762' '0.0034703356'\n",
            "  '0.0026755882' '0.0029662692' '-0.00037770232' '0.0036205738']\n",
            " ['2' '-0.002514912' '0.0021125313' '-0.0020027773' '-0.0012986761'\n",
            "  '0.003902655' '-0.003529878' '0.0024246138' '0.0028188527'\n",
            "  '0.00026394043' '0.0004471774' '0.002568075' '0.002740288'\n",
            "  '0.0034504193' '-0.0023117356' '-0.0010702994' '0.0025053904'\n",
            "  '-0.0022788725' '-0.00011415114' '0.0002360968' '-0.0033951655'\n",
            "  '0.0023946245' '-0.003562052' '-0.0020761173' '0.0017227726'\n",
            "  '0.0019021118' '-0.0030818717' '0.0024504163' '-0.00033389058'\n",
            "  '0.00028276115' '-0.003836582' '0.0008336645' '0.0006251522'\n",
            "  '-0.0002588086' '0.0033425621' '-0.0023676525' '-0.0013605373'\n",
            "  '0.002160987' '0.0024343405' '0.0034916678' '0.0017018196'\n",
            "  '0.0017043265' '0.0016156143' '0.0033670727' '-0.0012455352'\n",
            "  '-0.0021569838' '0.0010579481' '0.002201148' '0.002997963'\n",
            "  '-0.0030024752' '-0.003741625' '-0.001278151' '0.0038532594'\n",
            "  '0.001397024' '-0.0024205833' '0.0018202333' '0.0030653458'\n",
            "  '-0.003729667' '-0.003880547' '-0.0037258964' '0.0029499196'\n",
            "  '0.0017259076' '5.5535704e-05' '-0.0012377725' '0.0011754031'\n",
            "  '-0.0023561209' '-0.00037960729' '0.0020872261' '-0.002040639'\n",
            "  '0.0020618371' '0.00094804855' '-0.0022584407' '0.0012103065'\n",
            "  '0.0007929238' '-0.0013127183' '-0.0026107992' '0.00011287102'\n",
            "  '0.0035032625' '-0.00128514' '-1.984473e-05' '-0.003842541'\n",
            "  '-0.00040049796' '0.0008417' '0.0030802006' '0.0018402601'\n",
            "  '0.0036098673' '-0.0037392015' '-0.0030540994' '-0.0035037845'\n",
            "  '0.0034918406' '0.003079716' '0.0019046194' '-0.002183518'\n",
            "  '-0.0023406642' '0.002771557' '0.0038125315' '0.00018112802'\n",
            "  '-0.00012188632' '0.00094903744' '0.0032492038' '0.0023640771'\n",
            "  '0.0020416745' '0.0038064911' '0.00044401953' '0.0030998487'\n",
            "  '-0.00029992755' '-0.003831817' '0.0005305775' '0.0031505495'\n",
            "  '-0.00039620086' '-0.0023447822' '0.0027051112' '-0.00091751193'\n",
            "  '0.002636924' '-0.00026673725' '-0.001241418' '-0.00083375175'\n",
            "  '-0.0017655763' '-0.0036428699' '0.0031439983' '0.0035895787'\n",
            "  '-0.001991663' '-0.0036328216' '-0.0038951416' '0.002710586'\n",
            "  '0.0023904503' '-0.0006086864' '-0.00015724091' '-0.00091442675']\n",
            " ['Gene' '0.0015279016' '-0.0013438298' '0.0008087335' '-0.0015614355'\n",
            "  '0.00055680587' '-0.0008645977' '-0.0022307658' '0.0026550516'\n",
            "  '0.0031312716' '-9.5287236e-05' '0.0025364293' '-0.00032063937'\n",
            "  '-0.0010609112' '0.0017870594' '-0.0034328727' '-0.002457815'\n",
            "  '-0.0037712823' '-0.0037521091' '-0.0038280124' '-0.0033459133'\n",
            "  '0.002953789' '0.0025972412' '0.0038787494' '0.0018966869'\n",
            "  '0.00092986936' '-0.0038581418' '-0.0022482737' '0.0026763452'\n",
            "  '-0.00183891' '0.0025544288' '0.003087259' '-0.002698121'\n",
            "  '-0.0002398231' '-0.003467199' '-0.00341303' '0.0017369696'\n",
            "  '-0.0024592355' '0.0017656831' '-0.0013361373' '0.0010983885'\n",
            "  '0.00052800804' '0.0003908606' '0.0001536171' '3.312408e-05'\n",
            "  '-0.00037738195' '0.0011355012' '0.0024741364' '0.002376631'\n",
            "  '0.00015247356' '0.003625812' '0.0037573485' '0.0028148186'\n",
            "  '-0.003639609' '-0.0004500329' '-7.242275e-05' '1.9843415e-05'\n",
            "  '0.002496867' '-0.0008262458' '-0.00052528724' '-0.002678123'\n",
            "  '-0.0028513654' '-0.000468466' '-0.0012264614' '0.0015074689'\n",
            "  '-0.0036854292' '0.003420392' '-0.0003188407' '0.0039040472'\n",
            "  '0.0037318303' '-0.002260808' '0.0033790148' '-0.0008196035'\n",
            "  '0.0020664409' '-0.0007193657' '-0.002297166' '-0.0006234879'\n",
            "  '-0.0022917262' '0.00314767' '-0.0023234736' '-0.0020168433'\n",
            "  '-0.001532122' '-0.0015623851' '0.0016078099' '-0.003264769'\n",
            "  '-0.0021645688' '-0.0020015545' '-0.0026784285' '0.00019496815'\n",
            "  '0.003803301' '0.0031064698' '-0.0018017079' '0.0027729233'\n",
            "  '0.00044934775' '-0.0025903247' '0.0013072012' '0.00082485814'\n",
            "  '0.00077856216' '-0.0028408149' '-0.0017420576' '0.0014212712'\n",
            "  '0.002048736' '0.00040309833' '0.0010800472' '0.0015977757'\n",
            "  '-0.0002237572' '0.0035676036' '-0.0021518932' '-0.00041801576'\n",
            "  '0.0016607423' '-0.00068310666' '0.0020373142' '0.0016005818'\n",
            "  '0.00015011005' '0.0032646768' '-0.0006801579' '-0.00028616298'\n",
            "  '0.003075018' '-0.0014119174' '0.0027687903' '-0.001044325'\n",
            "  '0.003251616' '-0.002573897' '-0.00013354495' '0.0030147233'\n",
            "  '-0.0012921167' '-0.0014887265' '-0.00310222' '-0.0011085086']]\n"
          ]
        }
      ]
    },
    {
      "cell_type": "code",
      "source": [
        "data = [] #data matrix initialized empty\n",
        "#node_embedded = to_embedded(int(node)) #get the embedded representation of the node\n",
        "\n",
        "data.append(np.append(to_embedded,array([]))) #insert the embedding and the class inside the data matrix\n",
        "data = array(data,dtype=str) #transform the data matrix in a Numpy array\n",
        "print(data)"
      ],
      "metadata": {
        "colab": {
          "base_uri": "https://localhost:8080/"
        },
        "id": "MBloNMvp9XT0",
        "outputId": "078278ac-a91c-4fc3-9f28-2d424cc08841"
      },
      "execution_count": null,
      "outputs": [
        {
          "output_type": "stream",
          "name": "stdout",
          "text": [
            "[['<function to_embedded at 0x7fc0d4f88200>']]\n"
          ]
        }
      ]
    }
  ]
}