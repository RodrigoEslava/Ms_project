{
  "nbformat": 4,
  "nbformat_minor": 0,
  "metadata": {
    "colab": {
      "provenance": [],
      "authorship_tag": "ABX9TyNdPdjIoaC/+gYoUgrCZgnQ",
      "include_colab_link": true
    },
    "kernelspec": {
      "name": "python3",
      "display_name": "Python 3"
    },
    "language_info": {
      "name": "python"
    }
  },
  "cells": [
    {
      "cell_type": "markdown",
      "metadata": {
        "id": "view-in-github",
        "colab_type": "text"
      },
      "source": [
        "<a href=\"https://colab.research.google.com/github/RodrigoEslava/Ms_project/blob/main/ML.ipynb\" target=\"_parent\"><img src=\"https://colab.research.google.com/assets/colab-badge.svg\" alt=\"Open In Colab\"/></a>"
      ]
    },
    {
      "cell_type": "markdown",
      "source": [
        "# Machine Learning\n",
        "In this colab I'll test the efficiency of Lightgbm and Xgboot, using the proteome data"
      ],
      "metadata": {
        "id": "UqkCgmxullrA"
      }
    },
    {
      "cell_type": "markdown",
      "source": [
        "# Libraries/ Modules"
      ],
      "metadata": {
        "id": "-A9q6LrnuehJ"
      }
    },
    {
      "cell_type": "code",
      "source": [
        "#Libraries/ Modules\n",
        "\n",
        "import pandas as pd\n",
        "import numpy as np\n",
        "from pandas import Series, DataFrame\n",
        "\n",
        "from sklearn.model_selection import train_test_split\n",
        "from sklearn.model_selection import KFold\n",
        "from sklearn.model_selection import  cross_val_score\n",
        "from sklearn import metrics\n",
        "\n",
        "import lightgbm as lgb\n",
        "import xgboost as xgb\n",
        "\n",
        "%matplotlib inline\n",
        "import warnings\n",
        "warnings.filterwarnings('ignore')\n"
      ],
      "metadata": {
        "id": "8t347eW1udjZ"
      },
      "execution_count": 126,
      "outputs": []
    },
    {
      "cell_type": "markdown",
      "source": [
        "# Opening Data"
      ],
      "metadata": {
        "id": "pdpzfKpsnOGy"
      }
    },
    {
      "cell_type": "code",
      "source": [
        "#opening data\n",
        "\n",
        "df_1 = pd.read_csv(\"vectors_input_ml.txt\", header = None, sep = \" \")\n",
        "df_1 = pd.DataFrame(data = df_1)\n",
        "\n",
        "df_1"
      ],
      "metadata": {
        "colab": {
          "base_uri": "https://localhost:8080/",
          "height": 424
        },
        "id": "BayQrBE-6VaF",
        "outputId": "aba027e4-b1ac-40c5-bc52-df0e0551b215"
      },
      "execution_count": 127,
      "outputs": [
        {
          "output_type": "execute_result",
          "data": {
            "text/plain": [
              "             0       1         2         3         4         5         6   \\\n",
              "0        114787  375519  0.778164  0.475622  0.715792 -0.251704 -0.150356   \n",
              "1        114787  285613  0.778164  0.475622  0.715792 -0.251704 -0.150356   \n",
              "2        114787    7448  0.778164  0.475622  0.715792 -0.251704 -0.150356   \n",
              "3        114787    4914  0.778164  0.475622  0.715792 -0.251704 -0.150356   \n",
              "4        114787   51343  0.778164  0.475622  0.715792 -0.251704 -0.150356   \n",
              "...         ...     ...       ...       ...       ...       ...       ...   \n",
              "1431217   90737  339855  0.200750  0.274724  0.624510 -0.899938 -0.511145   \n",
              "1431218     310    4325  0.155255  0.308197  0.719711 -0.669243 -0.473170   \n",
              "1431219    6585    8079  0.513246  0.247140  2.436578 -0.277446  0.693172   \n",
              "1431220    4881   63899  1.374483  0.561892  0.210898 -0.872078 -0.151804   \n",
              "1431221   55556    8226  2.373171  1.818255  1.237502 -0.562256  0.822018   \n",
              "\n",
              "               7         8         9         10        11  12  \n",
              "0        0.679890  0.202166  1.085294 -0.354643  0.080082   1  \n",
              "1        0.307974  0.250093  1.434479  0.158018 -0.232124   1  \n",
              "2        0.514870  0.199525  0.751447 -0.191767 -0.486657   1  \n",
              "3        0.014077  0.967554  0.793498 -0.690786 -0.263792   1  \n",
              "4        0.103214  0.444202  0.831132 -0.484471 -0.458331   1  \n",
              "...           ...       ...       ...       ...       ...  ..  \n",
              "1431217  0.749858  0.652715  1.418007 -1.384832  0.797590   0  \n",
              "1431218  1.183004 -0.403156  1.681676  0.731652 -1.112852   0  \n",
              "1431219 -0.133098  0.461254  0.817654 -0.528891 -0.963959   0  \n",
              "1431220  0.797217  1.371346 -0.179053 -1.365025 -1.160668   0  \n",
              "1431221  0.588964  2.098053  1.497819 -1.468737  0.985457   0  \n",
              "\n",
              "[1431222 rows x 13 columns]"
            ],
            "text/html": [
              "\n",
              "  <div id=\"df-c5499c5a-54e4-4186-9d8f-96f78160c4ab\">\n",
              "    <div class=\"colab-df-container\">\n",
              "      <div>\n",
              "<style scoped>\n",
              "    .dataframe tbody tr th:only-of-type {\n",
              "        vertical-align: middle;\n",
              "    }\n",
              "\n",
              "    .dataframe tbody tr th {\n",
              "        vertical-align: top;\n",
              "    }\n",
              "\n",
              "    .dataframe thead th {\n",
              "        text-align: right;\n",
              "    }\n",
              "</style>\n",
              "<table border=\"1\" class=\"dataframe\">\n",
              "  <thead>\n",
              "    <tr style=\"text-align: right;\">\n",
              "      <th></th>\n",
              "      <th>0</th>\n",
              "      <th>1</th>\n",
              "      <th>2</th>\n",
              "      <th>3</th>\n",
              "      <th>4</th>\n",
              "      <th>5</th>\n",
              "      <th>6</th>\n",
              "      <th>7</th>\n",
              "      <th>8</th>\n",
              "      <th>9</th>\n",
              "      <th>10</th>\n",
              "      <th>11</th>\n",
              "      <th>12</th>\n",
              "    </tr>\n",
              "  </thead>\n",
              "  <tbody>\n",
              "    <tr>\n",
              "      <th>0</th>\n",
              "      <td>114787</td>\n",
              "      <td>375519</td>\n",
              "      <td>0.778164</td>\n",
              "      <td>0.475622</td>\n",
              "      <td>0.715792</td>\n",
              "      <td>-0.251704</td>\n",
              "      <td>-0.150356</td>\n",
              "      <td>0.679890</td>\n",
              "      <td>0.202166</td>\n",
              "      <td>1.085294</td>\n",
              "      <td>-0.354643</td>\n",
              "      <td>0.080082</td>\n",
              "      <td>1</td>\n",
              "    </tr>\n",
              "    <tr>\n",
              "      <th>1</th>\n",
              "      <td>114787</td>\n",
              "      <td>285613</td>\n",
              "      <td>0.778164</td>\n",
              "      <td>0.475622</td>\n",
              "      <td>0.715792</td>\n",
              "      <td>-0.251704</td>\n",
              "      <td>-0.150356</td>\n",
              "      <td>0.307974</td>\n",
              "      <td>0.250093</td>\n",
              "      <td>1.434479</td>\n",
              "      <td>0.158018</td>\n",
              "      <td>-0.232124</td>\n",
              "      <td>1</td>\n",
              "    </tr>\n",
              "    <tr>\n",
              "      <th>2</th>\n",
              "      <td>114787</td>\n",
              "      <td>7448</td>\n",
              "      <td>0.778164</td>\n",
              "      <td>0.475622</td>\n",
              "      <td>0.715792</td>\n",
              "      <td>-0.251704</td>\n",
              "      <td>-0.150356</td>\n",
              "      <td>0.514870</td>\n",
              "      <td>0.199525</td>\n",
              "      <td>0.751447</td>\n",
              "      <td>-0.191767</td>\n",
              "      <td>-0.486657</td>\n",
              "      <td>1</td>\n",
              "    </tr>\n",
              "    <tr>\n",
              "      <th>3</th>\n",
              "      <td>114787</td>\n",
              "      <td>4914</td>\n",
              "      <td>0.778164</td>\n",
              "      <td>0.475622</td>\n",
              "      <td>0.715792</td>\n",
              "      <td>-0.251704</td>\n",
              "      <td>-0.150356</td>\n",
              "      <td>0.014077</td>\n",
              "      <td>0.967554</td>\n",
              "      <td>0.793498</td>\n",
              "      <td>-0.690786</td>\n",
              "      <td>-0.263792</td>\n",
              "      <td>1</td>\n",
              "    </tr>\n",
              "    <tr>\n",
              "      <th>4</th>\n",
              "      <td>114787</td>\n",
              "      <td>51343</td>\n",
              "      <td>0.778164</td>\n",
              "      <td>0.475622</td>\n",
              "      <td>0.715792</td>\n",
              "      <td>-0.251704</td>\n",
              "      <td>-0.150356</td>\n",
              "      <td>0.103214</td>\n",
              "      <td>0.444202</td>\n",
              "      <td>0.831132</td>\n",
              "      <td>-0.484471</td>\n",
              "      <td>-0.458331</td>\n",
              "      <td>1</td>\n",
              "    </tr>\n",
              "    <tr>\n",
              "      <th>...</th>\n",
              "      <td>...</td>\n",
              "      <td>...</td>\n",
              "      <td>...</td>\n",
              "      <td>...</td>\n",
              "      <td>...</td>\n",
              "      <td>...</td>\n",
              "      <td>...</td>\n",
              "      <td>...</td>\n",
              "      <td>...</td>\n",
              "      <td>...</td>\n",
              "      <td>...</td>\n",
              "      <td>...</td>\n",
              "      <td>...</td>\n",
              "    </tr>\n",
              "    <tr>\n",
              "      <th>1431217</th>\n",
              "      <td>90737</td>\n",
              "      <td>339855</td>\n",
              "      <td>0.200750</td>\n",
              "      <td>0.274724</td>\n",
              "      <td>0.624510</td>\n",
              "      <td>-0.899938</td>\n",
              "      <td>-0.511145</td>\n",
              "      <td>0.749858</td>\n",
              "      <td>0.652715</td>\n",
              "      <td>1.418007</td>\n",
              "      <td>-1.384832</td>\n",
              "      <td>0.797590</td>\n",
              "      <td>0</td>\n",
              "    </tr>\n",
              "    <tr>\n",
              "      <th>1431218</th>\n",
              "      <td>310</td>\n",
              "      <td>4325</td>\n",
              "      <td>0.155255</td>\n",
              "      <td>0.308197</td>\n",
              "      <td>0.719711</td>\n",
              "      <td>-0.669243</td>\n",
              "      <td>-0.473170</td>\n",
              "      <td>1.183004</td>\n",
              "      <td>-0.403156</td>\n",
              "      <td>1.681676</td>\n",
              "      <td>0.731652</td>\n",
              "      <td>-1.112852</td>\n",
              "      <td>0</td>\n",
              "    </tr>\n",
              "    <tr>\n",
              "      <th>1431219</th>\n",
              "      <td>6585</td>\n",
              "      <td>8079</td>\n",
              "      <td>0.513246</td>\n",
              "      <td>0.247140</td>\n",
              "      <td>2.436578</td>\n",
              "      <td>-0.277446</td>\n",
              "      <td>0.693172</td>\n",
              "      <td>-0.133098</td>\n",
              "      <td>0.461254</td>\n",
              "      <td>0.817654</td>\n",
              "      <td>-0.528891</td>\n",
              "      <td>-0.963959</td>\n",
              "      <td>0</td>\n",
              "    </tr>\n",
              "    <tr>\n",
              "      <th>1431220</th>\n",
              "      <td>4881</td>\n",
              "      <td>63899</td>\n",
              "      <td>1.374483</td>\n",
              "      <td>0.561892</td>\n",
              "      <td>0.210898</td>\n",
              "      <td>-0.872078</td>\n",
              "      <td>-0.151804</td>\n",
              "      <td>0.797217</td>\n",
              "      <td>1.371346</td>\n",
              "      <td>-0.179053</td>\n",
              "      <td>-1.365025</td>\n",
              "      <td>-1.160668</td>\n",
              "      <td>0</td>\n",
              "    </tr>\n",
              "    <tr>\n",
              "      <th>1431221</th>\n",
              "      <td>55556</td>\n",
              "      <td>8226</td>\n",
              "      <td>2.373171</td>\n",
              "      <td>1.818255</td>\n",
              "      <td>1.237502</td>\n",
              "      <td>-0.562256</td>\n",
              "      <td>0.822018</td>\n",
              "      <td>0.588964</td>\n",
              "      <td>2.098053</td>\n",
              "      <td>1.497819</td>\n",
              "      <td>-1.468737</td>\n",
              "      <td>0.985457</td>\n",
              "      <td>0</td>\n",
              "    </tr>\n",
              "  </tbody>\n",
              "</table>\n",
              "<p>1431222 rows × 13 columns</p>\n",
              "</div>\n",
              "      <button class=\"colab-df-convert\" onclick=\"convertToInteractive('df-c5499c5a-54e4-4186-9d8f-96f78160c4ab')\"\n",
              "              title=\"Convert this dataframe to an interactive table.\"\n",
              "              style=\"display:none;\">\n",
              "        \n",
              "  <svg xmlns=\"http://www.w3.org/2000/svg\" height=\"24px\"viewBox=\"0 0 24 24\"\n",
              "       width=\"24px\">\n",
              "    <path d=\"M0 0h24v24H0V0z\" fill=\"none\"/>\n",
              "    <path d=\"M18.56 5.44l.94 2.06.94-2.06 2.06-.94-2.06-.94-.94-2.06-.94 2.06-2.06.94zm-11 1L8.5 8.5l.94-2.06 2.06-.94-2.06-.94L8.5 2.5l-.94 2.06-2.06.94zm10 10l.94 2.06.94-2.06 2.06-.94-2.06-.94-.94-2.06-.94 2.06-2.06.94z\"/><path d=\"M17.41 7.96l-1.37-1.37c-.4-.4-.92-.59-1.43-.59-.52 0-1.04.2-1.43.59L10.3 9.45l-7.72 7.72c-.78.78-.78 2.05 0 2.83L4 21.41c.39.39.9.59 1.41.59.51 0 1.02-.2 1.41-.59l7.78-7.78 2.81-2.81c.8-.78.8-2.07 0-2.86zM5.41 20L4 18.59l7.72-7.72 1.47 1.35L5.41 20z\"/>\n",
              "  </svg>\n",
              "      </button>\n",
              "      \n",
              "  <style>\n",
              "    .colab-df-container {\n",
              "      display:flex;\n",
              "      flex-wrap:wrap;\n",
              "      gap: 12px;\n",
              "    }\n",
              "\n",
              "    .colab-df-convert {\n",
              "      background-color: #E8F0FE;\n",
              "      border: none;\n",
              "      border-radius: 50%;\n",
              "      cursor: pointer;\n",
              "      display: none;\n",
              "      fill: #1967D2;\n",
              "      height: 32px;\n",
              "      padding: 0 0 0 0;\n",
              "      width: 32px;\n",
              "    }\n",
              "\n",
              "    .colab-df-convert:hover {\n",
              "      background-color: #E2EBFA;\n",
              "      box-shadow: 0px 1px 2px rgba(60, 64, 67, 0.3), 0px 1px 3px 1px rgba(60, 64, 67, 0.15);\n",
              "      fill: #174EA6;\n",
              "    }\n",
              "\n",
              "    [theme=dark] .colab-df-convert {\n",
              "      background-color: #3B4455;\n",
              "      fill: #D2E3FC;\n",
              "    }\n",
              "\n",
              "    [theme=dark] .colab-df-convert:hover {\n",
              "      background-color: #434B5C;\n",
              "      box-shadow: 0px 1px 3px 1px rgba(0, 0, 0, 0.15);\n",
              "      filter: drop-shadow(0px 1px 2px rgba(0, 0, 0, 0.3));\n",
              "      fill: #FFFFFF;\n",
              "    }\n",
              "  </style>\n",
              "\n",
              "      <script>\n",
              "        const buttonEl =\n",
              "          document.querySelector('#df-c5499c5a-54e4-4186-9d8f-96f78160c4ab button.colab-df-convert');\n",
              "        buttonEl.style.display =\n",
              "          google.colab.kernel.accessAllowed ? 'block' : 'none';\n",
              "\n",
              "        async function convertToInteractive(key) {\n",
              "          const element = document.querySelector('#df-c5499c5a-54e4-4186-9d8f-96f78160c4ab');\n",
              "          const dataTable =\n",
              "            await google.colab.kernel.invokeFunction('convertToInteractive',\n",
              "                                                     [key], {});\n",
              "          if (!dataTable) return;\n",
              "\n",
              "          const docLinkHtml = 'Like what you see? Visit the ' +\n",
              "            '<a target=\"_blank\" href=https://colab.research.google.com/notebooks/data_table.ipynb>data table notebook</a>'\n",
              "            + ' to learn more about interactive tables.';\n",
              "          element.innerHTML = '';\n",
              "          dataTable['output_type'] = 'display_data';\n",
              "          await google.colab.output.renderOutput(dataTable, element);\n",
              "          const docLink = document.createElement('div');\n",
              "          docLink.innerHTML = docLinkHtml;\n",
              "          element.appendChild(docLink);\n",
              "        }\n",
              "      </script>\n",
              "    </div>\n",
              "  </div>\n",
              "  "
            ]
          },
          "metadata": {},
          "execution_count": 127
        }
      ]
    },
    {
      "cell_type": "markdown",
      "source": [
        "# Separating the values ​​of X and Y"
      ],
      "metadata": {
        "id": "jnaL79DoIyQ9"
      }
    },
    {
      "cell_type": "code",
      "source": [
        "# Separating the values ​​of X and Y\n",
        "\n",
        "X = df_1[df_1.columns[2:12]]\n",
        "Y = df_1[df_1.columns[12:]]\n",
        "\n",
        "X"
      ],
      "metadata": {
        "colab": {
          "base_uri": "https://localhost:8080/",
          "height": 424
        },
        "id": "WYfh6o-3GB9C",
        "outputId": "be332867-1108-4175-c7a2-6e4c944e65dd"
      },
      "execution_count": 128,
      "outputs": [
        {
          "output_type": "execute_result",
          "data": {
            "text/plain": [
              "               2         3         4         5         6         7         8   \\\n",
              "0        0.778164  0.475622  0.715792 -0.251704 -0.150356  0.679890  0.202166   \n",
              "1        0.778164  0.475622  0.715792 -0.251704 -0.150356  0.307974  0.250093   \n",
              "2        0.778164  0.475622  0.715792 -0.251704 -0.150356  0.514870  0.199525   \n",
              "3        0.778164  0.475622  0.715792 -0.251704 -0.150356  0.014077  0.967554   \n",
              "4        0.778164  0.475622  0.715792 -0.251704 -0.150356  0.103214  0.444202   \n",
              "...           ...       ...       ...       ...       ...       ...       ...   \n",
              "1431217  0.200750  0.274724  0.624510 -0.899938 -0.511145  0.749858  0.652715   \n",
              "1431218  0.155255  0.308197  0.719711 -0.669243 -0.473170  1.183004 -0.403156   \n",
              "1431219  0.513246  0.247140  2.436578 -0.277446  0.693172 -0.133098  0.461254   \n",
              "1431220  1.374483  0.561892  0.210898 -0.872078 -0.151804  0.797217  1.371346   \n",
              "1431221  2.373171  1.818255  1.237502 -0.562256  0.822018  0.588964  2.098053   \n",
              "\n",
              "               9         10        11  \n",
              "0        1.085294 -0.354643  0.080082  \n",
              "1        1.434479  0.158018 -0.232124  \n",
              "2        0.751447 -0.191767 -0.486657  \n",
              "3        0.793498 -0.690786 -0.263792  \n",
              "4        0.831132 -0.484471 -0.458331  \n",
              "...           ...       ...       ...  \n",
              "1431217  1.418007 -1.384832  0.797590  \n",
              "1431218  1.681676  0.731652 -1.112852  \n",
              "1431219  0.817654 -0.528891 -0.963959  \n",
              "1431220 -0.179053 -1.365025 -1.160668  \n",
              "1431221  1.497819 -1.468737  0.985457  \n",
              "\n",
              "[1431222 rows x 10 columns]"
            ],
            "text/html": [
              "\n",
              "  <div id=\"df-fecfcd48-a44d-4ce1-81c4-bacb5b972b01\">\n",
              "    <div class=\"colab-df-container\">\n",
              "      <div>\n",
              "<style scoped>\n",
              "    .dataframe tbody tr th:only-of-type {\n",
              "        vertical-align: middle;\n",
              "    }\n",
              "\n",
              "    .dataframe tbody tr th {\n",
              "        vertical-align: top;\n",
              "    }\n",
              "\n",
              "    .dataframe thead th {\n",
              "        text-align: right;\n",
              "    }\n",
              "</style>\n",
              "<table border=\"1\" class=\"dataframe\">\n",
              "  <thead>\n",
              "    <tr style=\"text-align: right;\">\n",
              "      <th></th>\n",
              "      <th>2</th>\n",
              "      <th>3</th>\n",
              "      <th>4</th>\n",
              "      <th>5</th>\n",
              "      <th>6</th>\n",
              "      <th>7</th>\n",
              "      <th>8</th>\n",
              "      <th>9</th>\n",
              "      <th>10</th>\n",
              "      <th>11</th>\n",
              "    </tr>\n",
              "  </thead>\n",
              "  <tbody>\n",
              "    <tr>\n",
              "      <th>0</th>\n",
              "      <td>0.778164</td>\n",
              "      <td>0.475622</td>\n",
              "      <td>0.715792</td>\n",
              "      <td>-0.251704</td>\n",
              "      <td>-0.150356</td>\n",
              "      <td>0.679890</td>\n",
              "      <td>0.202166</td>\n",
              "      <td>1.085294</td>\n",
              "      <td>-0.354643</td>\n",
              "      <td>0.080082</td>\n",
              "    </tr>\n",
              "    <tr>\n",
              "      <th>1</th>\n",
              "      <td>0.778164</td>\n",
              "      <td>0.475622</td>\n",
              "      <td>0.715792</td>\n",
              "      <td>-0.251704</td>\n",
              "      <td>-0.150356</td>\n",
              "      <td>0.307974</td>\n",
              "      <td>0.250093</td>\n",
              "      <td>1.434479</td>\n",
              "      <td>0.158018</td>\n",
              "      <td>-0.232124</td>\n",
              "    </tr>\n",
              "    <tr>\n",
              "      <th>2</th>\n",
              "      <td>0.778164</td>\n",
              "      <td>0.475622</td>\n",
              "      <td>0.715792</td>\n",
              "      <td>-0.251704</td>\n",
              "      <td>-0.150356</td>\n",
              "      <td>0.514870</td>\n",
              "      <td>0.199525</td>\n",
              "      <td>0.751447</td>\n",
              "      <td>-0.191767</td>\n",
              "      <td>-0.486657</td>\n",
              "    </tr>\n",
              "    <tr>\n",
              "      <th>3</th>\n",
              "      <td>0.778164</td>\n",
              "      <td>0.475622</td>\n",
              "      <td>0.715792</td>\n",
              "      <td>-0.251704</td>\n",
              "      <td>-0.150356</td>\n",
              "      <td>0.014077</td>\n",
              "      <td>0.967554</td>\n",
              "      <td>0.793498</td>\n",
              "      <td>-0.690786</td>\n",
              "      <td>-0.263792</td>\n",
              "    </tr>\n",
              "    <tr>\n",
              "      <th>4</th>\n",
              "      <td>0.778164</td>\n",
              "      <td>0.475622</td>\n",
              "      <td>0.715792</td>\n",
              "      <td>-0.251704</td>\n",
              "      <td>-0.150356</td>\n",
              "      <td>0.103214</td>\n",
              "      <td>0.444202</td>\n",
              "      <td>0.831132</td>\n",
              "      <td>-0.484471</td>\n",
              "      <td>-0.458331</td>\n",
              "    </tr>\n",
              "    <tr>\n",
              "      <th>...</th>\n",
              "      <td>...</td>\n",
              "      <td>...</td>\n",
              "      <td>...</td>\n",
              "      <td>...</td>\n",
              "      <td>...</td>\n",
              "      <td>...</td>\n",
              "      <td>...</td>\n",
              "      <td>...</td>\n",
              "      <td>...</td>\n",
              "      <td>...</td>\n",
              "    </tr>\n",
              "    <tr>\n",
              "      <th>1431217</th>\n",
              "      <td>0.200750</td>\n",
              "      <td>0.274724</td>\n",
              "      <td>0.624510</td>\n",
              "      <td>-0.899938</td>\n",
              "      <td>-0.511145</td>\n",
              "      <td>0.749858</td>\n",
              "      <td>0.652715</td>\n",
              "      <td>1.418007</td>\n",
              "      <td>-1.384832</td>\n",
              "      <td>0.797590</td>\n",
              "    </tr>\n",
              "    <tr>\n",
              "      <th>1431218</th>\n",
              "      <td>0.155255</td>\n",
              "      <td>0.308197</td>\n",
              "      <td>0.719711</td>\n",
              "      <td>-0.669243</td>\n",
              "      <td>-0.473170</td>\n",
              "      <td>1.183004</td>\n",
              "      <td>-0.403156</td>\n",
              "      <td>1.681676</td>\n",
              "      <td>0.731652</td>\n",
              "      <td>-1.112852</td>\n",
              "    </tr>\n",
              "    <tr>\n",
              "      <th>1431219</th>\n",
              "      <td>0.513246</td>\n",
              "      <td>0.247140</td>\n",
              "      <td>2.436578</td>\n",
              "      <td>-0.277446</td>\n",
              "      <td>0.693172</td>\n",
              "      <td>-0.133098</td>\n",
              "      <td>0.461254</td>\n",
              "      <td>0.817654</td>\n",
              "      <td>-0.528891</td>\n",
              "      <td>-0.963959</td>\n",
              "    </tr>\n",
              "    <tr>\n",
              "      <th>1431220</th>\n",
              "      <td>1.374483</td>\n",
              "      <td>0.561892</td>\n",
              "      <td>0.210898</td>\n",
              "      <td>-0.872078</td>\n",
              "      <td>-0.151804</td>\n",
              "      <td>0.797217</td>\n",
              "      <td>1.371346</td>\n",
              "      <td>-0.179053</td>\n",
              "      <td>-1.365025</td>\n",
              "      <td>-1.160668</td>\n",
              "    </tr>\n",
              "    <tr>\n",
              "      <th>1431221</th>\n",
              "      <td>2.373171</td>\n",
              "      <td>1.818255</td>\n",
              "      <td>1.237502</td>\n",
              "      <td>-0.562256</td>\n",
              "      <td>0.822018</td>\n",
              "      <td>0.588964</td>\n",
              "      <td>2.098053</td>\n",
              "      <td>1.497819</td>\n",
              "      <td>-1.468737</td>\n",
              "      <td>0.985457</td>\n",
              "    </tr>\n",
              "  </tbody>\n",
              "</table>\n",
              "<p>1431222 rows × 10 columns</p>\n",
              "</div>\n",
              "      <button class=\"colab-df-convert\" onclick=\"convertToInteractive('df-fecfcd48-a44d-4ce1-81c4-bacb5b972b01')\"\n",
              "              title=\"Convert this dataframe to an interactive table.\"\n",
              "              style=\"display:none;\">\n",
              "        \n",
              "  <svg xmlns=\"http://www.w3.org/2000/svg\" height=\"24px\"viewBox=\"0 0 24 24\"\n",
              "       width=\"24px\">\n",
              "    <path d=\"M0 0h24v24H0V0z\" fill=\"none\"/>\n",
              "    <path d=\"M18.56 5.44l.94 2.06.94-2.06 2.06-.94-2.06-.94-.94-2.06-.94 2.06-2.06.94zm-11 1L8.5 8.5l.94-2.06 2.06-.94-2.06-.94L8.5 2.5l-.94 2.06-2.06.94zm10 10l.94 2.06.94-2.06 2.06-.94-2.06-.94-.94-2.06-.94 2.06-2.06.94z\"/><path d=\"M17.41 7.96l-1.37-1.37c-.4-.4-.92-.59-1.43-.59-.52 0-1.04.2-1.43.59L10.3 9.45l-7.72 7.72c-.78.78-.78 2.05 0 2.83L4 21.41c.39.39.9.59 1.41.59.51 0 1.02-.2 1.41-.59l7.78-7.78 2.81-2.81c.8-.78.8-2.07 0-2.86zM5.41 20L4 18.59l7.72-7.72 1.47 1.35L5.41 20z\"/>\n",
              "  </svg>\n",
              "      </button>\n",
              "      \n",
              "  <style>\n",
              "    .colab-df-container {\n",
              "      display:flex;\n",
              "      flex-wrap:wrap;\n",
              "      gap: 12px;\n",
              "    }\n",
              "\n",
              "    .colab-df-convert {\n",
              "      background-color: #E8F0FE;\n",
              "      border: none;\n",
              "      border-radius: 50%;\n",
              "      cursor: pointer;\n",
              "      display: none;\n",
              "      fill: #1967D2;\n",
              "      height: 32px;\n",
              "      padding: 0 0 0 0;\n",
              "      width: 32px;\n",
              "    }\n",
              "\n",
              "    .colab-df-convert:hover {\n",
              "      background-color: #E2EBFA;\n",
              "      box-shadow: 0px 1px 2px rgba(60, 64, 67, 0.3), 0px 1px 3px 1px rgba(60, 64, 67, 0.15);\n",
              "      fill: #174EA6;\n",
              "    }\n",
              "\n",
              "    [theme=dark] .colab-df-convert {\n",
              "      background-color: #3B4455;\n",
              "      fill: #D2E3FC;\n",
              "    }\n",
              "\n",
              "    [theme=dark] .colab-df-convert:hover {\n",
              "      background-color: #434B5C;\n",
              "      box-shadow: 0px 1px 3px 1px rgba(0, 0, 0, 0.15);\n",
              "      filter: drop-shadow(0px 1px 2px rgba(0, 0, 0, 0.3));\n",
              "      fill: #FFFFFF;\n",
              "    }\n",
              "  </style>\n",
              "\n",
              "      <script>\n",
              "        const buttonEl =\n",
              "          document.querySelector('#df-fecfcd48-a44d-4ce1-81c4-bacb5b972b01 button.colab-df-convert');\n",
              "        buttonEl.style.display =\n",
              "          google.colab.kernel.accessAllowed ? 'block' : 'none';\n",
              "\n",
              "        async function convertToInteractive(key) {\n",
              "          const element = document.querySelector('#df-fecfcd48-a44d-4ce1-81c4-bacb5b972b01');\n",
              "          const dataTable =\n",
              "            await google.colab.kernel.invokeFunction('convertToInteractive',\n",
              "                                                     [key], {});\n",
              "          if (!dataTable) return;\n",
              "\n",
              "          const docLinkHtml = 'Like what you see? Visit the ' +\n",
              "            '<a target=\"_blank\" href=https://colab.research.google.com/notebooks/data_table.ipynb>data table notebook</a>'\n",
              "            + ' to learn more about interactive tables.';\n",
              "          element.innerHTML = '';\n",
              "          dataTable['output_type'] = 'display_data';\n",
              "          await google.colab.output.renderOutput(dataTable, element);\n",
              "          const docLink = document.createElement('div');\n",
              "          docLink.innerHTML = docLinkHtml;\n",
              "          element.appendChild(docLink);\n",
              "        }\n",
              "      </script>\n",
              "    </div>\n",
              "  </div>\n",
              "  "
            ]
          },
          "metadata": {},
          "execution_count": 128
        }
      ]
    },
    {
      "cell_type": "code",
      "source": [
        "Y"
      ],
      "metadata": {
        "colab": {
          "base_uri": "https://localhost:8080/",
          "height": 424
        },
        "id": "yfhIs6U4Ir6S",
        "outputId": "caf3b63d-8795-4c22-cbff-4ffc6ca5e4ee"
      },
      "execution_count": 129,
      "outputs": [
        {
          "output_type": "execute_result",
          "data": {
            "text/plain": [
              "         12\n",
              "0         1\n",
              "1         1\n",
              "2         1\n",
              "3         1\n",
              "4         1\n",
              "...      ..\n",
              "1431217   0\n",
              "1431218   0\n",
              "1431219   0\n",
              "1431220   0\n",
              "1431221   0\n",
              "\n",
              "[1431222 rows x 1 columns]"
            ],
            "text/html": [
              "\n",
              "  <div id=\"df-ccfd0805-59ed-4cd8-b508-85446bbae1a8\">\n",
              "    <div class=\"colab-df-container\">\n",
              "      <div>\n",
              "<style scoped>\n",
              "    .dataframe tbody tr th:only-of-type {\n",
              "        vertical-align: middle;\n",
              "    }\n",
              "\n",
              "    .dataframe tbody tr th {\n",
              "        vertical-align: top;\n",
              "    }\n",
              "\n",
              "    .dataframe thead th {\n",
              "        text-align: right;\n",
              "    }\n",
              "</style>\n",
              "<table border=\"1\" class=\"dataframe\">\n",
              "  <thead>\n",
              "    <tr style=\"text-align: right;\">\n",
              "      <th></th>\n",
              "      <th>12</th>\n",
              "    </tr>\n",
              "  </thead>\n",
              "  <tbody>\n",
              "    <tr>\n",
              "      <th>0</th>\n",
              "      <td>1</td>\n",
              "    </tr>\n",
              "    <tr>\n",
              "      <th>1</th>\n",
              "      <td>1</td>\n",
              "    </tr>\n",
              "    <tr>\n",
              "      <th>2</th>\n",
              "      <td>1</td>\n",
              "    </tr>\n",
              "    <tr>\n",
              "      <th>3</th>\n",
              "      <td>1</td>\n",
              "    </tr>\n",
              "    <tr>\n",
              "      <th>4</th>\n",
              "      <td>1</td>\n",
              "    </tr>\n",
              "    <tr>\n",
              "      <th>...</th>\n",
              "      <td>...</td>\n",
              "    </tr>\n",
              "    <tr>\n",
              "      <th>1431217</th>\n",
              "      <td>0</td>\n",
              "    </tr>\n",
              "    <tr>\n",
              "      <th>1431218</th>\n",
              "      <td>0</td>\n",
              "    </tr>\n",
              "    <tr>\n",
              "      <th>1431219</th>\n",
              "      <td>0</td>\n",
              "    </tr>\n",
              "    <tr>\n",
              "      <th>1431220</th>\n",
              "      <td>0</td>\n",
              "    </tr>\n",
              "    <tr>\n",
              "      <th>1431221</th>\n",
              "      <td>0</td>\n",
              "    </tr>\n",
              "  </tbody>\n",
              "</table>\n",
              "<p>1431222 rows × 1 columns</p>\n",
              "</div>\n",
              "      <button class=\"colab-df-convert\" onclick=\"convertToInteractive('df-ccfd0805-59ed-4cd8-b508-85446bbae1a8')\"\n",
              "              title=\"Convert this dataframe to an interactive table.\"\n",
              "              style=\"display:none;\">\n",
              "        \n",
              "  <svg xmlns=\"http://www.w3.org/2000/svg\" height=\"24px\"viewBox=\"0 0 24 24\"\n",
              "       width=\"24px\">\n",
              "    <path d=\"M0 0h24v24H0V0z\" fill=\"none\"/>\n",
              "    <path d=\"M18.56 5.44l.94 2.06.94-2.06 2.06-.94-2.06-.94-.94-2.06-.94 2.06-2.06.94zm-11 1L8.5 8.5l.94-2.06 2.06-.94-2.06-.94L8.5 2.5l-.94 2.06-2.06.94zm10 10l.94 2.06.94-2.06 2.06-.94-2.06-.94-.94-2.06-.94 2.06-2.06.94z\"/><path d=\"M17.41 7.96l-1.37-1.37c-.4-.4-.92-.59-1.43-.59-.52 0-1.04.2-1.43.59L10.3 9.45l-7.72 7.72c-.78.78-.78 2.05 0 2.83L4 21.41c.39.39.9.59 1.41.59.51 0 1.02-.2 1.41-.59l7.78-7.78 2.81-2.81c.8-.78.8-2.07 0-2.86zM5.41 20L4 18.59l7.72-7.72 1.47 1.35L5.41 20z\"/>\n",
              "  </svg>\n",
              "      </button>\n",
              "      \n",
              "  <style>\n",
              "    .colab-df-container {\n",
              "      display:flex;\n",
              "      flex-wrap:wrap;\n",
              "      gap: 12px;\n",
              "    }\n",
              "\n",
              "    .colab-df-convert {\n",
              "      background-color: #E8F0FE;\n",
              "      border: none;\n",
              "      border-radius: 50%;\n",
              "      cursor: pointer;\n",
              "      display: none;\n",
              "      fill: #1967D2;\n",
              "      height: 32px;\n",
              "      padding: 0 0 0 0;\n",
              "      width: 32px;\n",
              "    }\n",
              "\n",
              "    .colab-df-convert:hover {\n",
              "      background-color: #E2EBFA;\n",
              "      box-shadow: 0px 1px 2px rgba(60, 64, 67, 0.3), 0px 1px 3px 1px rgba(60, 64, 67, 0.15);\n",
              "      fill: #174EA6;\n",
              "    }\n",
              "\n",
              "    [theme=dark] .colab-df-convert {\n",
              "      background-color: #3B4455;\n",
              "      fill: #D2E3FC;\n",
              "    }\n",
              "\n",
              "    [theme=dark] .colab-df-convert:hover {\n",
              "      background-color: #434B5C;\n",
              "      box-shadow: 0px 1px 3px 1px rgba(0, 0, 0, 0.15);\n",
              "      filter: drop-shadow(0px 1px 2px rgba(0, 0, 0, 0.3));\n",
              "      fill: #FFFFFF;\n",
              "    }\n",
              "  </style>\n",
              "\n",
              "      <script>\n",
              "        const buttonEl =\n",
              "          document.querySelector('#df-ccfd0805-59ed-4cd8-b508-85446bbae1a8 button.colab-df-convert');\n",
              "        buttonEl.style.display =\n",
              "          google.colab.kernel.accessAllowed ? 'block' : 'none';\n",
              "\n",
              "        async function convertToInteractive(key) {\n",
              "          const element = document.querySelector('#df-ccfd0805-59ed-4cd8-b508-85446bbae1a8');\n",
              "          const dataTable =\n",
              "            await google.colab.kernel.invokeFunction('convertToInteractive',\n",
              "                                                     [key], {});\n",
              "          if (!dataTable) return;\n",
              "\n",
              "          const docLinkHtml = 'Like what you see? Visit the ' +\n",
              "            '<a target=\"_blank\" href=https://colab.research.google.com/notebooks/data_table.ipynb>data table notebook</a>'\n",
              "            + ' to learn more about interactive tables.';\n",
              "          element.innerHTML = '';\n",
              "          dataTable['output_type'] = 'display_data';\n",
              "          await google.colab.output.renderOutput(dataTable, element);\n",
              "          const docLink = document.createElement('div');\n",
              "          docLink.innerHTML = docLinkHtml;\n",
              "          element.appendChild(docLink);\n",
              "        }\n",
              "      </script>\n",
              "    </div>\n",
              "  </div>\n",
              "  "
            ]
          },
          "metadata": {},
          "execution_count": 129
        }
      ]
    },
    {
      "cell_type": "markdown",
      "source": [
        "# Separating the training data and test data\n"
      ],
      "metadata": {
        "id": "nLQ_iw56KRVd"
      }
    },
    {
      "cell_type": "code",
      "source": [
        "# Separating the training data and test data\n",
        "\n",
        "X_training, X_test, Y_training, Y_test = train_test_split(X, Y, test_size = 0.3, random_state = 7)\n"
      ],
      "metadata": {
        "id": "0sOwr-oMI_Qt"
      },
      "execution_count": null,
      "outputs": []
    },
    {
      "cell_type": "markdown",
      "source": [
        "# Lightgbm"
      ],
      "metadata": {
        "id": "AwCQm-Cknysw"
      }
    },
    {
      "cell_type": "code",
      "source": [
        "#defining values to folds\n",
        "num_folds = 30\n",
        "seed = 7\n",
        "\n",
        "kf = KFold(n_splits=num_folds, shuffle = True, random_state=seed)\n"
      ],
      "metadata": {
        "id": "GpAuopS3n29H"
      },
      "execution_count": 136,
      "outputs": []
    },
    {
      "cell_type": "code",
      "source": [
        "#building the model\n",
        "\n",
        "model_lgbm = lgb.LGBMRegressor()\n",
        "#model_lgbm = lgb.LGBMClassier()\n",
        "\n",
        "\n",
        "\n",
        "result = cross_val_score(model_lgbm, X, Y, cv = kf)\n",
        " \n",
        "print(\"Acurácia Final:%.3f%%\" % (result.mean() * 100.00))\n"
      ],
      "metadata": {
        "colab": {
          "base_uri": "https://localhost:8080/"
        },
        "id": "jr0fVoOKQ8Jc",
        "outputId": "0b225c34-5dba-422b-9aa4-146762f061dd"
      },
      "execution_count": 139,
      "outputs": [
        {
          "output_type": "stream",
          "name": "stdout",
          "text": [
            "Acurácia Final:43.575%\n"
          ]
        }
      ]
    },
    {
      "cell_type": "code",
      "source": [
        "#building the model\n",
        "\n",
        "\n",
        "model_lgbm_c = lgb.LGBMClassifier()\n",
        "\n",
        "\n",
        "\n",
        "result = cross_val_score(model_lgbm, X, Y, cv = kf)\n",
        " \n",
        "print(\"Acurácia Final:%.3f%%\" % (result.mean() * 100.00))"
      ],
      "metadata": {
        "colab": {
          "base_uri": "https://localhost:8080/"
        },
        "id": "zF45smFwq21o",
        "outputId": "fa7f94a9-eeb9-4446-ad17-979ae66900c3"
      },
      "execution_count": 142,
      "outputs": [
        {
          "output_type": "stream",
          "name": "stdout",
          "text": [
            "Acurácia Final:43.575%\n"
          ]
        }
      ]
    },
    {
      "cell_type": "markdown",
      "source": [
        "# Tuning"
      ],
      "metadata": {
        "id": "tlyZRRrHpYq4"
      }
    },
    {
      "cell_type": "code",
      "source": [
        "model_lgbm_t = lgb.LGBMRegressor(max_depth=2)\n",
        "\n",
        "\n",
        "\n",
        "result = cross_val_score(model_lgbm_t, X, Y, cv = kf)\n",
        " \n",
        "print(\"Acurácia Final:%.3f%%\" % (result.mean() * 100.00))"
      ],
      "metadata": {
        "colab": {
          "base_uri": "https://localhost:8080/"
        },
        "id": "AgLeE8jxn-iv",
        "outputId": "ce57684f-8ce6-42c9-889f-0de05164cca3"
      },
      "execution_count": 143,
      "outputs": [
        {
          "output_type": "stream",
          "name": "stdout",
          "text": [
            "Acurácia Final:29.640%\n"
          ]
        }
      ]
    },
    {
      "cell_type": "code",
      "source": [
        "\n",
        "model_lgbm_t = lgb.LGBMClassifier(max_depth=2)\n",
        "\n",
        "\n",
        "\n",
        "result = cross_val_score(model_lgbm_t, X, Y, cv = kf)\n",
        " \n",
        "print(\"Acurácia Final:%.3f%%\" % (result.mean() * 100.00))"
      ],
      "metadata": {
        "colab": {
          "base_uri": "https://localhost:8080/"
        },
        "id": "mM5N5MlGtghe",
        "outputId": "96489630-5904-4097-82e9-c6834506a1dd"
      },
      "execution_count": 145,
      "outputs": [
        {
          "output_type": "stream",
          "name": "stdout",
          "text": [
            "Acurácia Final:74.519%\n"
          ]
        }
      ]
    },
    {
      "cell_type": "markdown",
      "source": [
        "# Bagging"
      ],
      "metadata": {
        "id": "25vLlr6gpfDx"
      }
    },
    {
      "cell_type": "code",
      "source": [
        "model_lgbm_rf = lgb.LGBMRegressor(boosting_type='rf', bagging_freq=1, bagging_fraction=0.8)\n",
        "\n",
        "\n",
        "\n",
        "\n",
        "result = cross_val_score(model_lgbm_rf, X, Y, cv = kf)\n",
        " \n",
        "print(\"Acurácia Final:%.3f%%\" % (result.mean() * 100.00))"
      ],
      "metadata": {
        "id": "heDRfUZFphh6"
      },
      "execution_count": null,
      "outputs": []
    },
    {
      "cell_type": "code",
      "source": [
        "model_lgbm_rf = lgb.LGBMClassifier(boosting_type='rf', bagging_freq=1, bagging_fraction=0.8)\n",
        "\n",
        "\n",
        "\n",
        "\n",
        "result = cross_val_score(model_lgbm_rf, X, Y, cv = kf)\n",
        " \n",
        "print(\"Acurácia Final:%.3f%%\" % (result.mean() * 100.00))"
      ],
      "metadata": {
        "id": "aduNivAwuOoh"
      },
      "execution_count": null,
      "outputs": []
    },
    {
      "cell_type": "markdown",
      "source": [
        "# Dart"
      ],
      "metadata": {
        "id": "StLHEGUkrxDe"
      }
    },
    {
      "cell_type": "code",
      "source": [
        "model_lgbm_d = lgb.LGBMRegressor(boosting_type='dart')\n",
        "\n",
        "\n",
        "\n",
        "\n",
        "result = cross_val_score(model_lgbm_d, X, Y, cv = kf)\n",
        " \n",
        "print(\"Acurácia Final:%.3f%%\" % (result.mean() * 100.00))"
      ],
      "metadata": {
        "colab": {
          "base_uri": "https://localhost:8080/"
        },
        "id": "yS_I3HDCrzKX",
        "outputId": "7847d235-e10a-4522-94b0-6f16e770ca23"
      },
      "execution_count": 146,
      "outputs": [
        {
          "output_type": "stream",
          "name": "stdout",
          "text": [
            "Acurácia Final:37.949%\n"
          ]
        }
      ]
    },
    {
      "cell_type": "code",
      "source": [
        "model_lgbm_d = lgb.LGBMClassifier(boosting_type='dart')\n",
        "\n",
        "\n",
        "\n",
        "\n",
        "result = cross_val_score(model_lgbm_d, X, Y, cv = kf)\n",
        " \n",
        "print(\"Acurácia Final:%.3f%%\" % (result.mean() * 100.00))"
      ],
      "metadata": {
        "colab": {
          "base_uri": "https://localhost:8080/"
        },
        "id": "zloY8svsuYm9",
        "outputId": "d3a8afc3-2b22-4531-ee85-2fa6881eed68"
      },
      "execution_count": 147,
      "outputs": [
        {
          "output_type": "stream",
          "name": "stdout",
          "text": [
            "Acurácia Final:78.698%\n"
          ]
        }
      ]
    },
    {
      "cell_type": "markdown",
      "source": [
        "# Fit"
      ],
      "metadata": {
        "id": "8ROHEm_BvQ1g"
      }
    },
    {
      "cell_type": "code",
      "source": [
        "model_lgbm_d.fit(X,Y)"
      ],
      "metadata": {
        "colab": {
          "base_uri": "https://localhost:8080/"
        },
        "id": "ExPCQp7kvoCS",
        "outputId": "0f043e72-df67-4b78-d81c-16e6acb5b264"
      },
      "execution_count": 153,
      "outputs": [
        {
          "output_type": "execute_result",
          "data": {
            "text/plain": [
              "LGBMClassifier(boosting_type='dart')"
            ]
          },
          "metadata": {},
          "execution_count": 153
        }
      ]
    },
    {
      "cell_type": "code",
      "source": [
        "predict_link = model_lgbm_d.predict(X)\n",
        "\n",
        "predict_link[:10]"
      ],
      "metadata": {
        "colab": {
          "base_uri": "https://localhost:8080/"
        },
        "id": "Ew5qraP_v061",
        "outputId": "4f867dc6-5173-4eb4-9ce7-0a19521eddd7"
      },
      "execution_count": 154,
      "outputs": [
        {
          "output_type": "execute_result",
          "data": {
            "text/plain": [
              "array([1, 1, 1, 1, 1, 0, 1, 1, 1, 1])"
            ]
          },
          "metadata": {},
          "execution_count": 154
        }
      ]
    },
    {
      "cell_type": "code",
      "source": [
        "y = [Y[:10]]"
      ],
      "metadata": {
        "id": "EiGioYroxIdG"
      },
      "execution_count": 165,
      "outputs": []
    },
    {
      "cell_type": "code",
      "source": [
        "(predict_link == y).sum()"
      ],
      "metadata": {
        "colab": {
          "base_uri": "https://localhost:8080/"
        },
        "id": "xZwioIrWxTVq",
        "outputId": "6fd8cd10-74b3-4033-fd62-ccace013dab4"
      },
      "execution_count": 166,
      "outputs": [
        {
          "output_type": "execute_result",
          "data": {
            "text/plain": [
              "7403800"
            ]
          },
          "metadata": {},
          "execution_count": 166
        }
      ]
    },
    {
      "cell_type": "code",
      "source": [
        "len(Y)"
      ],
      "metadata": {
        "colab": {
          "base_uri": "https://localhost:8080/"
        },
        "id": "oMtMiGuGxfZ7",
        "outputId": "ab38f557-ff24-44fd-88e2-8a7bdc70f0cb"
      },
      "execution_count": 167,
      "outputs": [
        {
          "output_type": "execute_result",
          "data": {
            "text/plain": [
              "1431222"
            ]
          },
          "metadata": {},
          "execution_count": 167
        }
      ]
    },
    {
      "cell_type": "markdown",
      "source": [
        "# XGBoost"
      ],
      "metadata": {
        "id": "YKI3eAX0TcAU"
      }
    },
    {
      "cell_type": "code",
      "source": [],
      "metadata": {
        "id": "hFyyRA8x6Peq"
      },
      "execution_count": null,
      "outputs": []
    },
    {
      "cell_type": "code",
      "source": [
        "dtrain = xgb.DMatrix(data = X, label = Y)\n",
        "\n",
        "param = {'max_depth':5,'eta':1,'objective': 'binary:logistic'}\n",
        "num_round = 2\n",
        "\n",
        "print('running cross validation')\n",
        "# do cross validation, this will print result out as\n",
        "# [iteration]  metric_name:mean_value+std_value\n",
        "# std_value is standard deviation of the metric\n",
        "xgb.cv(param, dtrain, num_round, nfold=5,\n",
        "       metrics={'error'}, seed=0,\n",
        "       callbacks=[xgb.callback.EvaluationMonitor(show_stdv=True)])\n",
        "\n",
        "\n",
        "print('running cross validation, disable standard deviation display')\n",
        "# do cross validation, this will print result out as\n",
        "# [iteration]  metric_name:mean_value\n",
        "res = xgb.cv(param, dtrain, num_boost_round=10, nfold=5,\n",
        "             metrics={'error'}, seed=0,\n",
        "             callbacks=[xgb.callback.EvaluationMonitor(show_stdv=False),\n",
        "                        xgb.callback.EarlyStopping(3)])\n",
        "\n",
        "print(res)\n",
        "print('running cross validation, with preprocessing function')\n",
        "# define the preprocessing function\n",
        "# used to return the preprocessed training, test data, and parameter\n",
        "# we can use this to do weight rescale, etc.\n",
        "# as a example, we try to set scale_pos_weight\n",
        "def fpreproc(dtrain, dtest, param):\n",
        "    label = dtrain.get_label()\n",
        "    ratio = float(np.sum(label == 0)) / np.sum(label == 1)\n",
        "    param['scale_pos_weight'] = ratio\n",
        "    return (dtrain, dtest, param)\n",
        "\n",
        "# do cross validation, for each fold\n",
        "# the dtrain, dtest, param will be passed into fpreproc\n",
        "# then the return value of fpreproc will be used to generate\n",
        "# results of that fold\n",
        "xgb.cv(param, dtrain, num_round, nfold=5,\n",
        "       metrics={'auc'}, seed=0, fpreproc=fpreproc)\n",
        "\n"
      ],
      "metadata": {
        "id": "DOMGJXMbTgwj"
      },
      "execution_count": null,
      "outputs": []
    },
    {
      "cell_type": "code",
      "source": [],
      "metadata": {
        "id": "Jv3V1UTxbgUf"
      },
      "execution_count": null,
      "outputs": []
    }
  ]
}