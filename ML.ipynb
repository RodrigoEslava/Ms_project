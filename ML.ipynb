{
  "nbformat": 4,
  "nbformat_minor": 0,
  "metadata": {
    "colab": {
      "provenance": [],
      "collapsed_sections": [
        "Ce4QAjiq2Z99"
      ],
      "mount_file_id": "1h2-xATN9UP0C51Y9YXuMSbmNnpW0b5th",
      "authorship_tag": "ABX9TyMvRMpDI7mxt3xEgn5VHR44",
      "include_colab_link": true
    },
    "kernelspec": {
      "name": "python3",
      "display_name": "Python 3"
    },
    "language_info": {
      "name": "python"
    }
  },
  "cells": [
    {
      "cell_type": "markdown",
      "metadata": {
        "id": "view-in-github",
        "colab_type": "text"
      },
      "source": [
        "<a href=\"https://colab.research.google.com/github/RodrigoEslava/Ms_project/blob/main/ML.ipynb\" target=\"_parent\"><img src=\"https://colab.research.google.com/assets/colab-badge.svg\" alt=\"Open In Colab\"/></a>"
      ]
    },
    {
      "cell_type": "markdown",
      "source": [
        "# Machine Learning\n",
        "In this colab I'll test the efficiency of Lightgbm and Xgboot, using the proteome data"
      ],
      "metadata": {
        "id": "UqkCgmxullrA"
      }
    },
    {
      "cell_type": "markdown",
      "source": [
        "# Libraries/ Modules"
      ],
      "metadata": {
        "id": "-A9q6LrnuehJ"
      }
    },
    {
      "cell_type": "code",
      "source": [
        "pip install scikit-optimize"
      ],
      "metadata": {
        "colab": {
          "base_uri": "https://localhost:8080/"
        },
        "id": "PU5zr-sMkrvd",
        "outputId": "aa5c7118-6cd2-461c-9b73-659bde544d2d"
      },
      "execution_count": 1,
      "outputs": [
        {
          "output_type": "stream",
          "name": "stdout",
          "text": [
            "Looking in indexes: https://pypi.org/simple, https://us-python.pkg.dev/colab-wheels/public/simple/\n",
            "Collecting scikit-optimize\n",
            "  Downloading scikit_optimize-0.9.0-py2.py3-none-any.whl (100 kB)\n",
            "\u001b[2K     \u001b[90m━━━━━━━━━━━━━━━━━━━━━━━━━━━━━━━━━━━━━━━\u001b[0m \u001b[32m100.3/100.3 KB\u001b[0m \u001b[31m6.2 MB/s\u001b[0m eta \u001b[36m0:00:00\u001b[0m\n",
            "\u001b[?25hRequirement already satisfied: joblib>=0.11 in /usr/local/lib/python3.8/dist-packages (from scikit-optimize) (1.2.0)\n",
            "Requirement already satisfied: scikit-learn>=0.20.0 in /usr/local/lib/python3.8/dist-packages (from scikit-optimize) (1.0.2)\n",
            "Requirement already satisfied: scipy>=0.19.1 in /usr/local/lib/python3.8/dist-packages (from scikit-optimize) (1.7.3)\n",
            "Collecting pyaml>=16.9\n",
            "  Downloading pyaml-21.10.1-py2.py3-none-any.whl (24 kB)\n",
            "Requirement already satisfied: numpy>=1.13.3 in /usr/local/lib/python3.8/dist-packages (from scikit-optimize) (1.21.6)\n",
            "Requirement already satisfied: PyYAML in /usr/local/lib/python3.8/dist-packages (from pyaml>=16.9->scikit-optimize) (6.0)\n",
            "Requirement already satisfied: threadpoolctl>=2.0.0 in /usr/local/lib/python3.8/dist-packages (from scikit-learn>=0.20.0->scikit-optimize) (3.1.0)\n",
            "Installing collected packages: pyaml, scikit-optimize\n",
            "Successfully installed pyaml-21.10.1 scikit-optimize-0.9.0\n"
          ]
        }
      ]
    },
    {
      "cell_type": "code",
      "source": [
        "#Libraries/ Modules\n",
        "\n",
        "import pandas as pd\n",
        "import numpy as np\n",
        "from pandas import Series, DataFrame\n",
        "\n",
        "from sklearn.svm import SVC\n",
        "\n",
        "from sklearn.model_selection import train_test_split\n",
        "from sklearn.model_selection import KFold\n",
        "from sklearn.model_selection import  cross_val_score\n",
        "from sklearn.model_selection import cross_validate\n",
        "from sklearn.metrics import precision_recall_fscore_support\n",
        "from sklearn.metrics import roc_auc_score, confusion_matrix\n",
        "from sklearn.metrics import precision_score\n",
        "from sklearn.metrics import accuracy_score\n",
        "from sklearn.metrics import recall_score\n",
        "from sklearn.metrics import f1_score\n",
        "from sklearn.metrics import make_scorer\n",
        "from sklearn import metrics\n",
        "\n",
        "from skopt import BayesSearchCV\n",
        "from skopt.space import Real, Categorical, Integer\n",
        "\n",
        "import lightgbm as lgb\n",
        "import xgboost as xgb\n",
        "\n",
        "%matplotlib inline\n",
        "import warnings\n",
        "warnings.filterwarnings('ignore')\n"
      ],
      "metadata": {
        "id": "8t347eW1udjZ"
      },
      "execution_count": 2,
      "outputs": []
    },
    {
      "cell_type": "markdown",
      "source": [
        "# Opening Data"
      ],
      "metadata": {
        "id": "pdpzfKpsnOGy"
      }
    },
    {
      "cell_type": "code",
      "source": [
        "#opening data\n",
        "\n",
        "df_1 = pd.read_csv(\"/content/drive/MyDrive/USP/vectors_input_ml__from_D50_emb.txt\", header = None, sep = \" \")\n",
        "df_1 = pd.DataFrame(data = df_1)\n",
        "\n",
        "df_1"
      ],
      "metadata": {
        "colab": {
          "base_uri": "https://localhost:8080/",
          "height": 424
        },
        "id": "BayQrBE-6VaF",
        "outputId": "adac4a3b-351c-46b5-def2-871438e54750"
      },
      "execution_count": 6,
      "outputs": [
        {
          "output_type": "execute_result",
          "data": {
            "text/plain": [
              "            0       1         2         3         4         5         6    \\\n",
              "0        114787  375519 -0.218339  0.051927  0.433674  0.379050 -0.303076   \n",
              "1        114787  285613 -0.218339  0.051927  0.433674  0.379050 -0.303076   \n",
              "2        114787    7448 -0.218339  0.051927  0.433674  0.379050 -0.303076   \n",
              "3        114787    4914 -0.218339  0.051927  0.433674  0.379050 -0.303076   \n",
              "4        114787   51343 -0.218339  0.051927  0.433674  0.379050 -0.303076   \n",
              "...         ...     ...       ...       ...       ...       ...       ...   \n",
              "1431217   90737  339855 -0.299822  0.073110 -0.012066  0.064782 -0.182190   \n",
              "1431218     310    4325 -0.090669  0.012640 -0.389824  0.037508  0.220777   \n",
              "1431219    6585    8079 -0.018634  0.060265  0.285404 -0.016298  0.412535   \n",
              "1431220    4881   63899  0.376214  0.035402 -0.026258  0.173349  0.416900   \n",
              "1431221   55556    8226  0.268746 -0.073208 -1.060397  0.506022 -0.044204   \n",
              "\n",
              "              7         8         9    ...       93        94        95   \\\n",
              "0       -0.712676  0.246733 -0.184586  ...  0.582748 -0.093185  0.197429   \n",
              "1       -0.712676  0.246733 -0.184586  ...  0.718021  0.411645  1.058466   \n",
              "2       -0.712676  0.246733 -0.184586  ...  0.226083  0.141008  0.697741   \n",
              "3       -0.712676  0.246733 -0.184586  ... -0.330690 -0.056626  0.277379   \n",
              "4       -0.712676  0.246733 -0.184586  ...  0.249835  0.005776  0.115309   \n",
              "...           ...       ...       ...  ...       ...       ...       ...   \n",
              "1431217 -0.198826  0.568433  0.386396  ... -0.193971  0.069791 -1.148958   \n",
              "1431218 -0.577209  0.255316  0.344268  ... -0.227559  0.906436  0.406652   \n",
              "1431219  0.123264  0.647300  0.153524  ... -0.121844 -0.396580  0.522469   \n",
              "1431220 -0.438496  0.514068  0.107551  ...  0.096137  0.026553  0.933624   \n",
              "1431221 -0.704936  0.528931 -0.586521  ...  0.250320 -0.197718 -0.567409   \n",
              "\n",
              "              96        97        98        99        100       101  102  \n",
              "0        0.196804  0.126834  0.829950 -0.282973 -0.087741  0.356805    1  \n",
              "1        0.447975 -0.278689  0.018391  0.704961  0.852890 -0.188985    1  \n",
              "2       -0.052053  0.008418 -0.203921 -0.329396  0.021598 -0.066564    1  \n",
              "3        0.462125  0.510014  0.564205  0.191713 -0.279282 -0.163813    1  \n",
              "4        0.447104  0.288978  0.295816 -0.003162  0.428033 -0.059167    1  \n",
              "...           ...       ...       ...       ...       ...       ...  ...  \n",
              "1431217  0.031849  0.104723  0.750949 -0.188681  0.895546  0.247883    0  \n",
              "1431218  1.064613  0.322546  0.138281 -0.324130  0.015952  0.281831    0  \n",
              "1431219  0.664378  0.126808  0.028348  0.072730  0.781687  0.404790    0  \n",
              "1431220  0.594865  0.385034 -0.439389  0.039829  0.344956 -0.593266    0  \n",
              "1431221  1.264782 -0.125973  0.972720 -1.131025  0.405513  0.303397    0  \n",
              "\n",
              "[1431222 rows x 103 columns]"
            ],
            "text/html": [
              "\n",
              "  <div id=\"df-a68f13db-ee2a-4c78-aad3-4c0008cebf17\">\n",
              "    <div class=\"colab-df-container\">\n",
              "      <div>\n",
              "<style scoped>\n",
              "    .dataframe tbody tr th:only-of-type {\n",
              "        vertical-align: middle;\n",
              "    }\n",
              "\n",
              "    .dataframe tbody tr th {\n",
              "        vertical-align: top;\n",
              "    }\n",
              "\n",
              "    .dataframe thead th {\n",
              "        text-align: right;\n",
              "    }\n",
              "</style>\n",
              "<table border=\"1\" class=\"dataframe\">\n",
              "  <thead>\n",
              "    <tr style=\"text-align: right;\">\n",
              "      <th></th>\n",
              "      <th>0</th>\n",
              "      <th>1</th>\n",
              "      <th>2</th>\n",
              "      <th>3</th>\n",
              "      <th>4</th>\n",
              "      <th>5</th>\n",
              "      <th>6</th>\n",
              "      <th>7</th>\n",
              "      <th>8</th>\n",
              "      <th>9</th>\n",
              "      <th>...</th>\n",
              "      <th>93</th>\n",
              "      <th>94</th>\n",
              "      <th>95</th>\n",
              "      <th>96</th>\n",
              "      <th>97</th>\n",
              "      <th>98</th>\n",
              "      <th>99</th>\n",
              "      <th>100</th>\n",
              "      <th>101</th>\n",
              "      <th>102</th>\n",
              "    </tr>\n",
              "  </thead>\n",
              "  <tbody>\n",
              "    <tr>\n",
              "      <th>0</th>\n",
              "      <td>114787</td>\n",
              "      <td>375519</td>\n",
              "      <td>-0.218339</td>\n",
              "      <td>0.051927</td>\n",
              "      <td>0.433674</td>\n",
              "      <td>0.379050</td>\n",
              "      <td>-0.303076</td>\n",
              "      <td>-0.712676</td>\n",
              "      <td>0.246733</td>\n",
              "      <td>-0.184586</td>\n",
              "      <td>...</td>\n",
              "      <td>0.582748</td>\n",
              "      <td>-0.093185</td>\n",
              "      <td>0.197429</td>\n",
              "      <td>0.196804</td>\n",
              "      <td>0.126834</td>\n",
              "      <td>0.829950</td>\n",
              "      <td>-0.282973</td>\n",
              "      <td>-0.087741</td>\n",
              "      <td>0.356805</td>\n",
              "      <td>1</td>\n",
              "    </tr>\n",
              "    <tr>\n",
              "      <th>1</th>\n",
              "      <td>114787</td>\n",
              "      <td>285613</td>\n",
              "      <td>-0.218339</td>\n",
              "      <td>0.051927</td>\n",
              "      <td>0.433674</td>\n",
              "      <td>0.379050</td>\n",
              "      <td>-0.303076</td>\n",
              "      <td>-0.712676</td>\n",
              "      <td>0.246733</td>\n",
              "      <td>-0.184586</td>\n",
              "      <td>...</td>\n",
              "      <td>0.718021</td>\n",
              "      <td>0.411645</td>\n",
              "      <td>1.058466</td>\n",
              "      <td>0.447975</td>\n",
              "      <td>-0.278689</td>\n",
              "      <td>0.018391</td>\n",
              "      <td>0.704961</td>\n",
              "      <td>0.852890</td>\n",
              "      <td>-0.188985</td>\n",
              "      <td>1</td>\n",
              "    </tr>\n",
              "    <tr>\n",
              "      <th>2</th>\n",
              "      <td>114787</td>\n",
              "      <td>7448</td>\n",
              "      <td>-0.218339</td>\n",
              "      <td>0.051927</td>\n",
              "      <td>0.433674</td>\n",
              "      <td>0.379050</td>\n",
              "      <td>-0.303076</td>\n",
              "      <td>-0.712676</td>\n",
              "      <td>0.246733</td>\n",
              "      <td>-0.184586</td>\n",
              "      <td>...</td>\n",
              "      <td>0.226083</td>\n",
              "      <td>0.141008</td>\n",
              "      <td>0.697741</td>\n",
              "      <td>-0.052053</td>\n",
              "      <td>0.008418</td>\n",
              "      <td>-0.203921</td>\n",
              "      <td>-0.329396</td>\n",
              "      <td>0.021598</td>\n",
              "      <td>-0.066564</td>\n",
              "      <td>1</td>\n",
              "    </tr>\n",
              "    <tr>\n",
              "      <th>3</th>\n",
              "      <td>114787</td>\n",
              "      <td>4914</td>\n",
              "      <td>-0.218339</td>\n",
              "      <td>0.051927</td>\n",
              "      <td>0.433674</td>\n",
              "      <td>0.379050</td>\n",
              "      <td>-0.303076</td>\n",
              "      <td>-0.712676</td>\n",
              "      <td>0.246733</td>\n",
              "      <td>-0.184586</td>\n",
              "      <td>...</td>\n",
              "      <td>-0.330690</td>\n",
              "      <td>-0.056626</td>\n",
              "      <td>0.277379</td>\n",
              "      <td>0.462125</td>\n",
              "      <td>0.510014</td>\n",
              "      <td>0.564205</td>\n",
              "      <td>0.191713</td>\n",
              "      <td>-0.279282</td>\n",
              "      <td>-0.163813</td>\n",
              "      <td>1</td>\n",
              "    </tr>\n",
              "    <tr>\n",
              "      <th>4</th>\n",
              "      <td>114787</td>\n",
              "      <td>51343</td>\n",
              "      <td>-0.218339</td>\n",
              "      <td>0.051927</td>\n",
              "      <td>0.433674</td>\n",
              "      <td>0.379050</td>\n",
              "      <td>-0.303076</td>\n",
              "      <td>-0.712676</td>\n",
              "      <td>0.246733</td>\n",
              "      <td>-0.184586</td>\n",
              "      <td>...</td>\n",
              "      <td>0.249835</td>\n",
              "      <td>0.005776</td>\n",
              "      <td>0.115309</td>\n",
              "      <td>0.447104</td>\n",
              "      <td>0.288978</td>\n",
              "      <td>0.295816</td>\n",
              "      <td>-0.003162</td>\n",
              "      <td>0.428033</td>\n",
              "      <td>-0.059167</td>\n",
              "      <td>1</td>\n",
              "    </tr>\n",
              "    <tr>\n",
              "      <th>...</th>\n",
              "      <td>...</td>\n",
              "      <td>...</td>\n",
              "      <td>...</td>\n",
              "      <td>...</td>\n",
              "      <td>...</td>\n",
              "      <td>...</td>\n",
              "      <td>...</td>\n",
              "      <td>...</td>\n",
              "      <td>...</td>\n",
              "      <td>...</td>\n",
              "      <td>...</td>\n",
              "      <td>...</td>\n",
              "      <td>...</td>\n",
              "      <td>...</td>\n",
              "      <td>...</td>\n",
              "      <td>...</td>\n",
              "      <td>...</td>\n",
              "      <td>...</td>\n",
              "      <td>...</td>\n",
              "      <td>...</td>\n",
              "      <td>...</td>\n",
              "    </tr>\n",
              "    <tr>\n",
              "      <th>1431217</th>\n",
              "      <td>90737</td>\n",
              "      <td>339855</td>\n",
              "      <td>-0.299822</td>\n",
              "      <td>0.073110</td>\n",
              "      <td>-0.012066</td>\n",
              "      <td>0.064782</td>\n",
              "      <td>-0.182190</td>\n",
              "      <td>-0.198826</td>\n",
              "      <td>0.568433</td>\n",
              "      <td>0.386396</td>\n",
              "      <td>...</td>\n",
              "      <td>-0.193971</td>\n",
              "      <td>0.069791</td>\n",
              "      <td>-1.148958</td>\n",
              "      <td>0.031849</td>\n",
              "      <td>0.104723</td>\n",
              "      <td>0.750949</td>\n",
              "      <td>-0.188681</td>\n",
              "      <td>0.895546</td>\n",
              "      <td>0.247883</td>\n",
              "      <td>0</td>\n",
              "    </tr>\n",
              "    <tr>\n",
              "      <th>1431218</th>\n",
              "      <td>310</td>\n",
              "      <td>4325</td>\n",
              "      <td>-0.090669</td>\n",
              "      <td>0.012640</td>\n",
              "      <td>-0.389824</td>\n",
              "      <td>0.037508</td>\n",
              "      <td>0.220777</td>\n",
              "      <td>-0.577209</td>\n",
              "      <td>0.255316</td>\n",
              "      <td>0.344268</td>\n",
              "      <td>...</td>\n",
              "      <td>-0.227559</td>\n",
              "      <td>0.906436</td>\n",
              "      <td>0.406652</td>\n",
              "      <td>1.064613</td>\n",
              "      <td>0.322546</td>\n",
              "      <td>0.138281</td>\n",
              "      <td>-0.324130</td>\n",
              "      <td>0.015952</td>\n",
              "      <td>0.281831</td>\n",
              "      <td>0</td>\n",
              "    </tr>\n",
              "    <tr>\n",
              "      <th>1431219</th>\n",
              "      <td>6585</td>\n",
              "      <td>8079</td>\n",
              "      <td>-0.018634</td>\n",
              "      <td>0.060265</td>\n",
              "      <td>0.285404</td>\n",
              "      <td>-0.016298</td>\n",
              "      <td>0.412535</td>\n",
              "      <td>0.123264</td>\n",
              "      <td>0.647300</td>\n",
              "      <td>0.153524</td>\n",
              "      <td>...</td>\n",
              "      <td>-0.121844</td>\n",
              "      <td>-0.396580</td>\n",
              "      <td>0.522469</td>\n",
              "      <td>0.664378</td>\n",
              "      <td>0.126808</td>\n",
              "      <td>0.028348</td>\n",
              "      <td>0.072730</td>\n",
              "      <td>0.781687</td>\n",
              "      <td>0.404790</td>\n",
              "      <td>0</td>\n",
              "    </tr>\n",
              "    <tr>\n",
              "      <th>1431220</th>\n",
              "      <td>4881</td>\n",
              "      <td>63899</td>\n",
              "      <td>0.376214</td>\n",
              "      <td>0.035402</td>\n",
              "      <td>-0.026258</td>\n",
              "      <td>0.173349</td>\n",
              "      <td>0.416900</td>\n",
              "      <td>-0.438496</td>\n",
              "      <td>0.514068</td>\n",
              "      <td>0.107551</td>\n",
              "      <td>...</td>\n",
              "      <td>0.096137</td>\n",
              "      <td>0.026553</td>\n",
              "      <td>0.933624</td>\n",
              "      <td>0.594865</td>\n",
              "      <td>0.385034</td>\n",
              "      <td>-0.439389</td>\n",
              "      <td>0.039829</td>\n",
              "      <td>0.344956</td>\n",
              "      <td>-0.593266</td>\n",
              "      <td>0</td>\n",
              "    </tr>\n",
              "    <tr>\n",
              "      <th>1431221</th>\n",
              "      <td>55556</td>\n",
              "      <td>8226</td>\n",
              "      <td>0.268746</td>\n",
              "      <td>-0.073208</td>\n",
              "      <td>-1.060397</td>\n",
              "      <td>0.506022</td>\n",
              "      <td>-0.044204</td>\n",
              "      <td>-0.704936</td>\n",
              "      <td>0.528931</td>\n",
              "      <td>-0.586521</td>\n",
              "      <td>...</td>\n",
              "      <td>0.250320</td>\n",
              "      <td>-0.197718</td>\n",
              "      <td>-0.567409</td>\n",
              "      <td>1.264782</td>\n",
              "      <td>-0.125973</td>\n",
              "      <td>0.972720</td>\n",
              "      <td>-1.131025</td>\n",
              "      <td>0.405513</td>\n",
              "      <td>0.303397</td>\n",
              "      <td>0</td>\n",
              "    </tr>\n",
              "  </tbody>\n",
              "</table>\n",
              "<p>1431222 rows × 103 columns</p>\n",
              "</div>\n",
              "      <button class=\"colab-df-convert\" onclick=\"convertToInteractive('df-a68f13db-ee2a-4c78-aad3-4c0008cebf17')\"\n",
              "              title=\"Convert this dataframe to an interactive table.\"\n",
              "              style=\"display:none;\">\n",
              "        \n",
              "  <svg xmlns=\"http://www.w3.org/2000/svg\" height=\"24px\"viewBox=\"0 0 24 24\"\n",
              "       width=\"24px\">\n",
              "    <path d=\"M0 0h24v24H0V0z\" fill=\"none\"/>\n",
              "    <path d=\"M18.56 5.44l.94 2.06.94-2.06 2.06-.94-2.06-.94-.94-2.06-.94 2.06-2.06.94zm-11 1L8.5 8.5l.94-2.06 2.06-.94-2.06-.94L8.5 2.5l-.94 2.06-2.06.94zm10 10l.94 2.06.94-2.06 2.06-.94-2.06-.94-.94-2.06-.94 2.06-2.06.94z\"/><path d=\"M17.41 7.96l-1.37-1.37c-.4-.4-.92-.59-1.43-.59-.52 0-1.04.2-1.43.59L10.3 9.45l-7.72 7.72c-.78.78-.78 2.05 0 2.83L4 21.41c.39.39.9.59 1.41.59.51 0 1.02-.2 1.41-.59l7.78-7.78 2.81-2.81c.8-.78.8-2.07 0-2.86zM5.41 20L4 18.59l7.72-7.72 1.47 1.35L5.41 20z\"/>\n",
              "  </svg>\n",
              "      </button>\n",
              "      \n",
              "  <style>\n",
              "    .colab-df-container {\n",
              "      display:flex;\n",
              "      flex-wrap:wrap;\n",
              "      gap: 12px;\n",
              "    }\n",
              "\n",
              "    .colab-df-convert {\n",
              "      background-color: #E8F0FE;\n",
              "      border: none;\n",
              "      border-radius: 50%;\n",
              "      cursor: pointer;\n",
              "      display: none;\n",
              "      fill: #1967D2;\n",
              "      height: 32px;\n",
              "      padding: 0 0 0 0;\n",
              "      width: 32px;\n",
              "    }\n",
              "\n",
              "    .colab-df-convert:hover {\n",
              "      background-color: #E2EBFA;\n",
              "      box-shadow: 0px 1px 2px rgba(60, 64, 67, 0.3), 0px 1px 3px 1px rgba(60, 64, 67, 0.15);\n",
              "      fill: #174EA6;\n",
              "    }\n",
              "\n",
              "    [theme=dark] .colab-df-convert {\n",
              "      background-color: #3B4455;\n",
              "      fill: #D2E3FC;\n",
              "    }\n",
              "\n",
              "    [theme=dark] .colab-df-convert:hover {\n",
              "      background-color: #434B5C;\n",
              "      box-shadow: 0px 1px 3px 1px rgba(0, 0, 0, 0.15);\n",
              "      filter: drop-shadow(0px 1px 2px rgba(0, 0, 0, 0.3));\n",
              "      fill: #FFFFFF;\n",
              "    }\n",
              "  </style>\n",
              "\n",
              "      <script>\n",
              "        const buttonEl =\n",
              "          document.querySelector('#df-a68f13db-ee2a-4c78-aad3-4c0008cebf17 button.colab-df-convert');\n",
              "        buttonEl.style.display =\n",
              "          google.colab.kernel.accessAllowed ? 'block' : 'none';\n",
              "\n",
              "        async function convertToInteractive(key) {\n",
              "          const element = document.querySelector('#df-a68f13db-ee2a-4c78-aad3-4c0008cebf17');\n",
              "          const dataTable =\n",
              "            await google.colab.kernel.invokeFunction('convertToInteractive',\n",
              "                                                     [key], {});\n",
              "          if (!dataTable) return;\n",
              "\n",
              "          const docLinkHtml = 'Like what you see? Visit the ' +\n",
              "            '<a target=\"_blank\" href=https://colab.research.google.com/notebooks/data_table.ipynb>data table notebook</a>'\n",
              "            + ' to learn more about interactive tables.';\n",
              "          element.innerHTML = '';\n",
              "          dataTable['output_type'] = 'display_data';\n",
              "          await google.colab.output.renderOutput(dataTable, element);\n",
              "          const docLink = document.createElement('div');\n",
              "          docLink.innerHTML = docLinkHtml;\n",
              "          element.appendChild(docLink);\n",
              "        }\n",
              "      </script>\n",
              "    </div>\n",
              "  </div>\n",
              "  "
            ]
          },
          "metadata": {},
          "execution_count": 6
        }
      ]
    },
    {
      "cell_type": "markdown",
      "source": [
        "# Separating the values ​​of X and Y"
      ],
      "metadata": {
        "id": "jnaL79DoIyQ9"
      }
    },
    {
      "cell_type": "code",
      "source": [
        "# Separating the values ​​of X and Y\n",
        "\n",
        "X = df_1[df_1.columns[2:102]]\n",
        "Y = df_1[df_1.columns[102:]]\n",
        "\n",
        "X"
      ],
      "metadata": {
        "id": "WYfh6o-3GB9C",
        "colab": {
          "base_uri": "https://localhost:8080/",
          "height": 424
        },
        "outputId": "de27e8ef-c414-442b-ae35-fd194bb26e20"
      },
      "execution_count": 7,
      "outputs": [
        {
          "output_type": "execute_result",
          "data": {
            "text/plain": [
              "              2         3         4         5         6         7         8    \\\n",
              "0       -0.218339  0.051927  0.433674  0.379050 -0.303076 -0.712676  0.246733   \n",
              "1       -0.218339  0.051927  0.433674  0.379050 -0.303076 -0.712676  0.246733   \n",
              "2       -0.218339  0.051927  0.433674  0.379050 -0.303076 -0.712676  0.246733   \n",
              "3       -0.218339  0.051927  0.433674  0.379050 -0.303076 -0.712676  0.246733   \n",
              "4       -0.218339  0.051927  0.433674  0.379050 -0.303076 -0.712676  0.246733   \n",
              "...           ...       ...       ...       ...       ...       ...       ...   \n",
              "1431217 -0.299822  0.073110 -0.012066  0.064782 -0.182190 -0.198826  0.568433   \n",
              "1431218 -0.090669  0.012640 -0.389824  0.037508  0.220777 -0.577209  0.255316   \n",
              "1431219 -0.018634  0.060265  0.285404 -0.016298  0.412535  0.123264  0.647300   \n",
              "1431220  0.376214  0.035402 -0.026258  0.173349  0.416900 -0.438496  0.514068   \n",
              "1431221  0.268746 -0.073208 -1.060397  0.506022 -0.044204 -0.704936  0.528931   \n",
              "\n",
              "              9         10        11   ...       92        93        94   \\\n",
              "0       -0.184586 -0.253981  0.268568  ... -0.078732  0.582748 -0.093185   \n",
              "1       -0.184586 -0.253981  0.268568  ...  0.178062  0.718021  0.411645   \n",
              "2       -0.184586 -0.253981  0.268568  ...  0.197277  0.226083  0.141008   \n",
              "3       -0.184586 -0.253981  0.268568  ...  0.758105 -0.330690 -0.056626   \n",
              "4       -0.184586 -0.253981  0.268568  ...  0.219192  0.249835  0.005776   \n",
              "...           ...       ...       ...  ...       ...       ...       ...   \n",
              "1431217  0.386396 -0.104465  0.274835  ...  0.041359 -0.193971  0.069791   \n",
              "1431218  0.344268  0.011421 -0.112356  ...  0.290241 -0.227559  0.906436   \n",
              "1431219  0.153524  0.290880  0.136970  ...  0.166483 -0.121844 -0.396580   \n",
              "1431220  0.107551 -0.706025 -0.275096  ...  0.608079  0.096137  0.026553   \n",
              "1431221 -0.586521 -0.035635  0.189441  ...  1.055320  0.250320 -0.197718   \n",
              "\n",
              "              95        96        97        98        99        100       101  \n",
              "0        0.197429  0.196804  0.126834  0.829950 -0.282973 -0.087741  0.356805  \n",
              "1        1.058466  0.447975 -0.278689  0.018391  0.704961  0.852890 -0.188985  \n",
              "2        0.697741 -0.052053  0.008418 -0.203921 -0.329396  0.021598 -0.066564  \n",
              "3        0.277379  0.462125  0.510014  0.564205  0.191713 -0.279282 -0.163813  \n",
              "4        0.115309  0.447104  0.288978  0.295816 -0.003162  0.428033 -0.059167  \n",
              "...           ...       ...       ...       ...       ...       ...       ...  \n",
              "1431217 -1.148958  0.031849  0.104723  0.750949 -0.188681  0.895546  0.247883  \n",
              "1431218  0.406652  1.064613  0.322546  0.138281 -0.324130  0.015952  0.281831  \n",
              "1431219  0.522469  0.664378  0.126808  0.028348  0.072730  0.781687  0.404790  \n",
              "1431220  0.933624  0.594865  0.385034 -0.439389  0.039829  0.344956 -0.593266  \n",
              "1431221 -0.567409  1.264782 -0.125973  0.972720 -1.131025  0.405513  0.303397  \n",
              "\n",
              "[1431222 rows x 100 columns]"
            ],
            "text/html": [
              "\n",
              "  <div id=\"df-5bc78944-077c-431c-9ded-b50f5f81a5ac\">\n",
              "    <div class=\"colab-df-container\">\n",
              "      <div>\n",
              "<style scoped>\n",
              "    .dataframe tbody tr th:only-of-type {\n",
              "        vertical-align: middle;\n",
              "    }\n",
              "\n",
              "    .dataframe tbody tr th {\n",
              "        vertical-align: top;\n",
              "    }\n",
              "\n",
              "    .dataframe thead th {\n",
              "        text-align: right;\n",
              "    }\n",
              "</style>\n",
              "<table border=\"1\" class=\"dataframe\">\n",
              "  <thead>\n",
              "    <tr style=\"text-align: right;\">\n",
              "      <th></th>\n",
              "      <th>2</th>\n",
              "      <th>3</th>\n",
              "      <th>4</th>\n",
              "      <th>5</th>\n",
              "      <th>6</th>\n",
              "      <th>7</th>\n",
              "      <th>8</th>\n",
              "      <th>9</th>\n",
              "      <th>10</th>\n",
              "      <th>11</th>\n",
              "      <th>...</th>\n",
              "      <th>92</th>\n",
              "      <th>93</th>\n",
              "      <th>94</th>\n",
              "      <th>95</th>\n",
              "      <th>96</th>\n",
              "      <th>97</th>\n",
              "      <th>98</th>\n",
              "      <th>99</th>\n",
              "      <th>100</th>\n",
              "      <th>101</th>\n",
              "    </tr>\n",
              "  </thead>\n",
              "  <tbody>\n",
              "    <tr>\n",
              "      <th>0</th>\n",
              "      <td>-0.218339</td>\n",
              "      <td>0.051927</td>\n",
              "      <td>0.433674</td>\n",
              "      <td>0.379050</td>\n",
              "      <td>-0.303076</td>\n",
              "      <td>-0.712676</td>\n",
              "      <td>0.246733</td>\n",
              "      <td>-0.184586</td>\n",
              "      <td>-0.253981</td>\n",
              "      <td>0.268568</td>\n",
              "      <td>...</td>\n",
              "      <td>-0.078732</td>\n",
              "      <td>0.582748</td>\n",
              "      <td>-0.093185</td>\n",
              "      <td>0.197429</td>\n",
              "      <td>0.196804</td>\n",
              "      <td>0.126834</td>\n",
              "      <td>0.829950</td>\n",
              "      <td>-0.282973</td>\n",
              "      <td>-0.087741</td>\n",
              "      <td>0.356805</td>\n",
              "    </tr>\n",
              "    <tr>\n",
              "      <th>1</th>\n",
              "      <td>-0.218339</td>\n",
              "      <td>0.051927</td>\n",
              "      <td>0.433674</td>\n",
              "      <td>0.379050</td>\n",
              "      <td>-0.303076</td>\n",
              "      <td>-0.712676</td>\n",
              "      <td>0.246733</td>\n",
              "      <td>-0.184586</td>\n",
              "      <td>-0.253981</td>\n",
              "      <td>0.268568</td>\n",
              "      <td>...</td>\n",
              "      <td>0.178062</td>\n",
              "      <td>0.718021</td>\n",
              "      <td>0.411645</td>\n",
              "      <td>1.058466</td>\n",
              "      <td>0.447975</td>\n",
              "      <td>-0.278689</td>\n",
              "      <td>0.018391</td>\n",
              "      <td>0.704961</td>\n",
              "      <td>0.852890</td>\n",
              "      <td>-0.188985</td>\n",
              "    </tr>\n",
              "    <tr>\n",
              "      <th>2</th>\n",
              "      <td>-0.218339</td>\n",
              "      <td>0.051927</td>\n",
              "      <td>0.433674</td>\n",
              "      <td>0.379050</td>\n",
              "      <td>-0.303076</td>\n",
              "      <td>-0.712676</td>\n",
              "      <td>0.246733</td>\n",
              "      <td>-0.184586</td>\n",
              "      <td>-0.253981</td>\n",
              "      <td>0.268568</td>\n",
              "      <td>...</td>\n",
              "      <td>0.197277</td>\n",
              "      <td>0.226083</td>\n",
              "      <td>0.141008</td>\n",
              "      <td>0.697741</td>\n",
              "      <td>-0.052053</td>\n",
              "      <td>0.008418</td>\n",
              "      <td>-0.203921</td>\n",
              "      <td>-0.329396</td>\n",
              "      <td>0.021598</td>\n",
              "      <td>-0.066564</td>\n",
              "    </tr>\n",
              "    <tr>\n",
              "      <th>3</th>\n",
              "      <td>-0.218339</td>\n",
              "      <td>0.051927</td>\n",
              "      <td>0.433674</td>\n",
              "      <td>0.379050</td>\n",
              "      <td>-0.303076</td>\n",
              "      <td>-0.712676</td>\n",
              "      <td>0.246733</td>\n",
              "      <td>-0.184586</td>\n",
              "      <td>-0.253981</td>\n",
              "      <td>0.268568</td>\n",
              "      <td>...</td>\n",
              "      <td>0.758105</td>\n",
              "      <td>-0.330690</td>\n",
              "      <td>-0.056626</td>\n",
              "      <td>0.277379</td>\n",
              "      <td>0.462125</td>\n",
              "      <td>0.510014</td>\n",
              "      <td>0.564205</td>\n",
              "      <td>0.191713</td>\n",
              "      <td>-0.279282</td>\n",
              "      <td>-0.163813</td>\n",
              "    </tr>\n",
              "    <tr>\n",
              "      <th>4</th>\n",
              "      <td>-0.218339</td>\n",
              "      <td>0.051927</td>\n",
              "      <td>0.433674</td>\n",
              "      <td>0.379050</td>\n",
              "      <td>-0.303076</td>\n",
              "      <td>-0.712676</td>\n",
              "      <td>0.246733</td>\n",
              "      <td>-0.184586</td>\n",
              "      <td>-0.253981</td>\n",
              "      <td>0.268568</td>\n",
              "      <td>...</td>\n",
              "      <td>0.219192</td>\n",
              "      <td>0.249835</td>\n",
              "      <td>0.005776</td>\n",
              "      <td>0.115309</td>\n",
              "      <td>0.447104</td>\n",
              "      <td>0.288978</td>\n",
              "      <td>0.295816</td>\n",
              "      <td>-0.003162</td>\n",
              "      <td>0.428033</td>\n",
              "      <td>-0.059167</td>\n",
              "    </tr>\n",
              "    <tr>\n",
              "      <th>...</th>\n",
              "      <td>...</td>\n",
              "      <td>...</td>\n",
              "      <td>...</td>\n",
              "      <td>...</td>\n",
              "      <td>...</td>\n",
              "      <td>...</td>\n",
              "      <td>...</td>\n",
              "      <td>...</td>\n",
              "      <td>...</td>\n",
              "      <td>...</td>\n",
              "      <td>...</td>\n",
              "      <td>...</td>\n",
              "      <td>...</td>\n",
              "      <td>...</td>\n",
              "      <td>...</td>\n",
              "      <td>...</td>\n",
              "      <td>...</td>\n",
              "      <td>...</td>\n",
              "      <td>...</td>\n",
              "      <td>...</td>\n",
              "      <td>...</td>\n",
              "    </tr>\n",
              "    <tr>\n",
              "      <th>1431217</th>\n",
              "      <td>-0.299822</td>\n",
              "      <td>0.073110</td>\n",
              "      <td>-0.012066</td>\n",
              "      <td>0.064782</td>\n",
              "      <td>-0.182190</td>\n",
              "      <td>-0.198826</td>\n",
              "      <td>0.568433</td>\n",
              "      <td>0.386396</td>\n",
              "      <td>-0.104465</td>\n",
              "      <td>0.274835</td>\n",
              "      <td>...</td>\n",
              "      <td>0.041359</td>\n",
              "      <td>-0.193971</td>\n",
              "      <td>0.069791</td>\n",
              "      <td>-1.148958</td>\n",
              "      <td>0.031849</td>\n",
              "      <td>0.104723</td>\n",
              "      <td>0.750949</td>\n",
              "      <td>-0.188681</td>\n",
              "      <td>0.895546</td>\n",
              "      <td>0.247883</td>\n",
              "    </tr>\n",
              "    <tr>\n",
              "      <th>1431218</th>\n",
              "      <td>-0.090669</td>\n",
              "      <td>0.012640</td>\n",
              "      <td>-0.389824</td>\n",
              "      <td>0.037508</td>\n",
              "      <td>0.220777</td>\n",
              "      <td>-0.577209</td>\n",
              "      <td>0.255316</td>\n",
              "      <td>0.344268</td>\n",
              "      <td>0.011421</td>\n",
              "      <td>-0.112356</td>\n",
              "      <td>...</td>\n",
              "      <td>0.290241</td>\n",
              "      <td>-0.227559</td>\n",
              "      <td>0.906436</td>\n",
              "      <td>0.406652</td>\n",
              "      <td>1.064613</td>\n",
              "      <td>0.322546</td>\n",
              "      <td>0.138281</td>\n",
              "      <td>-0.324130</td>\n",
              "      <td>0.015952</td>\n",
              "      <td>0.281831</td>\n",
              "    </tr>\n",
              "    <tr>\n",
              "      <th>1431219</th>\n",
              "      <td>-0.018634</td>\n",
              "      <td>0.060265</td>\n",
              "      <td>0.285404</td>\n",
              "      <td>-0.016298</td>\n",
              "      <td>0.412535</td>\n",
              "      <td>0.123264</td>\n",
              "      <td>0.647300</td>\n",
              "      <td>0.153524</td>\n",
              "      <td>0.290880</td>\n",
              "      <td>0.136970</td>\n",
              "      <td>...</td>\n",
              "      <td>0.166483</td>\n",
              "      <td>-0.121844</td>\n",
              "      <td>-0.396580</td>\n",
              "      <td>0.522469</td>\n",
              "      <td>0.664378</td>\n",
              "      <td>0.126808</td>\n",
              "      <td>0.028348</td>\n",
              "      <td>0.072730</td>\n",
              "      <td>0.781687</td>\n",
              "      <td>0.404790</td>\n",
              "    </tr>\n",
              "    <tr>\n",
              "      <th>1431220</th>\n",
              "      <td>0.376214</td>\n",
              "      <td>0.035402</td>\n",
              "      <td>-0.026258</td>\n",
              "      <td>0.173349</td>\n",
              "      <td>0.416900</td>\n",
              "      <td>-0.438496</td>\n",
              "      <td>0.514068</td>\n",
              "      <td>0.107551</td>\n",
              "      <td>-0.706025</td>\n",
              "      <td>-0.275096</td>\n",
              "      <td>...</td>\n",
              "      <td>0.608079</td>\n",
              "      <td>0.096137</td>\n",
              "      <td>0.026553</td>\n",
              "      <td>0.933624</td>\n",
              "      <td>0.594865</td>\n",
              "      <td>0.385034</td>\n",
              "      <td>-0.439389</td>\n",
              "      <td>0.039829</td>\n",
              "      <td>0.344956</td>\n",
              "      <td>-0.593266</td>\n",
              "    </tr>\n",
              "    <tr>\n",
              "      <th>1431221</th>\n",
              "      <td>0.268746</td>\n",
              "      <td>-0.073208</td>\n",
              "      <td>-1.060397</td>\n",
              "      <td>0.506022</td>\n",
              "      <td>-0.044204</td>\n",
              "      <td>-0.704936</td>\n",
              "      <td>0.528931</td>\n",
              "      <td>-0.586521</td>\n",
              "      <td>-0.035635</td>\n",
              "      <td>0.189441</td>\n",
              "      <td>...</td>\n",
              "      <td>1.055320</td>\n",
              "      <td>0.250320</td>\n",
              "      <td>-0.197718</td>\n",
              "      <td>-0.567409</td>\n",
              "      <td>1.264782</td>\n",
              "      <td>-0.125973</td>\n",
              "      <td>0.972720</td>\n",
              "      <td>-1.131025</td>\n",
              "      <td>0.405513</td>\n",
              "      <td>0.303397</td>\n",
              "    </tr>\n",
              "  </tbody>\n",
              "</table>\n",
              "<p>1431222 rows × 100 columns</p>\n",
              "</div>\n",
              "      <button class=\"colab-df-convert\" onclick=\"convertToInteractive('df-5bc78944-077c-431c-9ded-b50f5f81a5ac')\"\n",
              "              title=\"Convert this dataframe to an interactive table.\"\n",
              "              style=\"display:none;\">\n",
              "        \n",
              "  <svg xmlns=\"http://www.w3.org/2000/svg\" height=\"24px\"viewBox=\"0 0 24 24\"\n",
              "       width=\"24px\">\n",
              "    <path d=\"M0 0h24v24H0V0z\" fill=\"none\"/>\n",
              "    <path d=\"M18.56 5.44l.94 2.06.94-2.06 2.06-.94-2.06-.94-.94-2.06-.94 2.06-2.06.94zm-11 1L8.5 8.5l.94-2.06 2.06-.94-2.06-.94L8.5 2.5l-.94 2.06-2.06.94zm10 10l.94 2.06.94-2.06 2.06-.94-2.06-.94-.94-2.06-.94 2.06-2.06.94z\"/><path d=\"M17.41 7.96l-1.37-1.37c-.4-.4-.92-.59-1.43-.59-.52 0-1.04.2-1.43.59L10.3 9.45l-7.72 7.72c-.78.78-.78 2.05 0 2.83L4 21.41c.39.39.9.59 1.41.59.51 0 1.02-.2 1.41-.59l7.78-7.78 2.81-2.81c.8-.78.8-2.07 0-2.86zM5.41 20L4 18.59l7.72-7.72 1.47 1.35L5.41 20z\"/>\n",
              "  </svg>\n",
              "      </button>\n",
              "      \n",
              "  <style>\n",
              "    .colab-df-container {\n",
              "      display:flex;\n",
              "      flex-wrap:wrap;\n",
              "      gap: 12px;\n",
              "    }\n",
              "\n",
              "    .colab-df-convert {\n",
              "      background-color: #E8F0FE;\n",
              "      border: none;\n",
              "      border-radius: 50%;\n",
              "      cursor: pointer;\n",
              "      display: none;\n",
              "      fill: #1967D2;\n",
              "      height: 32px;\n",
              "      padding: 0 0 0 0;\n",
              "      width: 32px;\n",
              "    }\n",
              "\n",
              "    .colab-df-convert:hover {\n",
              "      background-color: #E2EBFA;\n",
              "      box-shadow: 0px 1px 2px rgba(60, 64, 67, 0.3), 0px 1px 3px 1px rgba(60, 64, 67, 0.15);\n",
              "      fill: #174EA6;\n",
              "    }\n",
              "\n",
              "    [theme=dark] .colab-df-convert {\n",
              "      background-color: #3B4455;\n",
              "      fill: #D2E3FC;\n",
              "    }\n",
              "\n",
              "    [theme=dark] .colab-df-convert:hover {\n",
              "      background-color: #434B5C;\n",
              "      box-shadow: 0px 1px 3px 1px rgba(0, 0, 0, 0.15);\n",
              "      filter: drop-shadow(0px 1px 2px rgba(0, 0, 0, 0.3));\n",
              "      fill: #FFFFFF;\n",
              "    }\n",
              "  </style>\n",
              "\n",
              "      <script>\n",
              "        const buttonEl =\n",
              "          document.querySelector('#df-5bc78944-077c-431c-9ded-b50f5f81a5ac button.colab-df-convert');\n",
              "        buttonEl.style.display =\n",
              "          google.colab.kernel.accessAllowed ? 'block' : 'none';\n",
              "\n",
              "        async function convertToInteractive(key) {\n",
              "          const element = document.querySelector('#df-5bc78944-077c-431c-9ded-b50f5f81a5ac');\n",
              "          const dataTable =\n",
              "            await google.colab.kernel.invokeFunction('convertToInteractive',\n",
              "                                                     [key], {});\n",
              "          if (!dataTable) return;\n",
              "\n",
              "          const docLinkHtml = 'Like what you see? Visit the ' +\n",
              "            '<a target=\"_blank\" href=https://colab.research.google.com/notebooks/data_table.ipynb>data table notebook</a>'\n",
              "            + ' to learn more about interactive tables.';\n",
              "          element.innerHTML = '';\n",
              "          dataTable['output_type'] = 'display_data';\n",
              "          await google.colab.output.renderOutput(dataTable, element);\n",
              "          const docLink = document.createElement('div');\n",
              "          docLink.innerHTML = docLinkHtml;\n",
              "          element.appendChild(docLink);\n",
              "        }\n",
              "      </script>\n",
              "    </div>\n",
              "  </div>\n",
              "  "
            ]
          },
          "metadata": {},
          "execution_count": 7
        }
      ]
    },
    {
      "cell_type": "code",
      "source": [
        "Y"
      ],
      "metadata": {
        "colab": {
          "base_uri": "https://localhost:8080/",
          "height": 424
        },
        "id": "yfhIs6U4Ir6S",
        "outputId": "af9de541-667f-4610-9cfa-5036cf0ac6ba"
      },
      "execution_count": 8,
      "outputs": [
        {
          "output_type": "execute_result",
          "data": {
            "text/plain": [
              "         102\n",
              "0          1\n",
              "1          1\n",
              "2          1\n",
              "3          1\n",
              "4          1\n",
              "...      ...\n",
              "1431217    0\n",
              "1431218    0\n",
              "1431219    0\n",
              "1431220    0\n",
              "1431221    0\n",
              "\n",
              "[1431222 rows x 1 columns]"
            ],
            "text/html": [
              "\n",
              "  <div id=\"df-c701c375-33b3-402c-87c4-c0987f254026\">\n",
              "    <div class=\"colab-df-container\">\n",
              "      <div>\n",
              "<style scoped>\n",
              "    .dataframe tbody tr th:only-of-type {\n",
              "        vertical-align: middle;\n",
              "    }\n",
              "\n",
              "    .dataframe tbody tr th {\n",
              "        vertical-align: top;\n",
              "    }\n",
              "\n",
              "    .dataframe thead th {\n",
              "        text-align: right;\n",
              "    }\n",
              "</style>\n",
              "<table border=\"1\" class=\"dataframe\">\n",
              "  <thead>\n",
              "    <tr style=\"text-align: right;\">\n",
              "      <th></th>\n",
              "      <th>102</th>\n",
              "    </tr>\n",
              "  </thead>\n",
              "  <tbody>\n",
              "    <tr>\n",
              "      <th>0</th>\n",
              "      <td>1</td>\n",
              "    </tr>\n",
              "    <tr>\n",
              "      <th>1</th>\n",
              "      <td>1</td>\n",
              "    </tr>\n",
              "    <tr>\n",
              "      <th>2</th>\n",
              "      <td>1</td>\n",
              "    </tr>\n",
              "    <tr>\n",
              "      <th>3</th>\n",
              "      <td>1</td>\n",
              "    </tr>\n",
              "    <tr>\n",
              "      <th>4</th>\n",
              "      <td>1</td>\n",
              "    </tr>\n",
              "    <tr>\n",
              "      <th>...</th>\n",
              "      <td>...</td>\n",
              "    </tr>\n",
              "    <tr>\n",
              "      <th>1431217</th>\n",
              "      <td>0</td>\n",
              "    </tr>\n",
              "    <tr>\n",
              "      <th>1431218</th>\n",
              "      <td>0</td>\n",
              "    </tr>\n",
              "    <tr>\n",
              "      <th>1431219</th>\n",
              "      <td>0</td>\n",
              "    </tr>\n",
              "    <tr>\n",
              "      <th>1431220</th>\n",
              "      <td>0</td>\n",
              "    </tr>\n",
              "    <tr>\n",
              "      <th>1431221</th>\n",
              "      <td>0</td>\n",
              "    </tr>\n",
              "  </tbody>\n",
              "</table>\n",
              "<p>1431222 rows × 1 columns</p>\n",
              "</div>\n",
              "      <button class=\"colab-df-convert\" onclick=\"convertToInteractive('df-c701c375-33b3-402c-87c4-c0987f254026')\"\n",
              "              title=\"Convert this dataframe to an interactive table.\"\n",
              "              style=\"display:none;\">\n",
              "        \n",
              "  <svg xmlns=\"http://www.w3.org/2000/svg\" height=\"24px\"viewBox=\"0 0 24 24\"\n",
              "       width=\"24px\">\n",
              "    <path d=\"M0 0h24v24H0V0z\" fill=\"none\"/>\n",
              "    <path d=\"M18.56 5.44l.94 2.06.94-2.06 2.06-.94-2.06-.94-.94-2.06-.94 2.06-2.06.94zm-11 1L8.5 8.5l.94-2.06 2.06-.94-2.06-.94L8.5 2.5l-.94 2.06-2.06.94zm10 10l.94 2.06.94-2.06 2.06-.94-2.06-.94-.94-2.06-.94 2.06-2.06.94z\"/><path d=\"M17.41 7.96l-1.37-1.37c-.4-.4-.92-.59-1.43-.59-.52 0-1.04.2-1.43.59L10.3 9.45l-7.72 7.72c-.78.78-.78 2.05 0 2.83L4 21.41c.39.39.9.59 1.41.59.51 0 1.02-.2 1.41-.59l7.78-7.78 2.81-2.81c.8-.78.8-2.07 0-2.86zM5.41 20L4 18.59l7.72-7.72 1.47 1.35L5.41 20z\"/>\n",
              "  </svg>\n",
              "      </button>\n",
              "      \n",
              "  <style>\n",
              "    .colab-df-container {\n",
              "      display:flex;\n",
              "      flex-wrap:wrap;\n",
              "      gap: 12px;\n",
              "    }\n",
              "\n",
              "    .colab-df-convert {\n",
              "      background-color: #E8F0FE;\n",
              "      border: none;\n",
              "      border-radius: 50%;\n",
              "      cursor: pointer;\n",
              "      display: none;\n",
              "      fill: #1967D2;\n",
              "      height: 32px;\n",
              "      padding: 0 0 0 0;\n",
              "      width: 32px;\n",
              "    }\n",
              "\n",
              "    .colab-df-convert:hover {\n",
              "      background-color: #E2EBFA;\n",
              "      box-shadow: 0px 1px 2px rgba(60, 64, 67, 0.3), 0px 1px 3px 1px rgba(60, 64, 67, 0.15);\n",
              "      fill: #174EA6;\n",
              "    }\n",
              "\n",
              "    [theme=dark] .colab-df-convert {\n",
              "      background-color: #3B4455;\n",
              "      fill: #D2E3FC;\n",
              "    }\n",
              "\n",
              "    [theme=dark] .colab-df-convert:hover {\n",
              "      background-color: #434B5C;\n",
              "      box-shadow: 0px 1px 3px 1px rgba(0, 0, 0, 0.15);\n",
              "      filter: drop-shadow(0px 1px 2px rgba(0, 0, 0, 0.3));\n",
              "      fill: #FFFFFF;\n",
              "    }\n",
              "  </style>\n",
              "\n",
              "      <script>\n",
              "        const buttonEl =\n",
              "          document.querySelector('#df-c701c375-33b3-402c-87c4-c0987f254026 button.colab-df-convert');\n",
              "        buttonEl.style.display =\n",
              "          google.colab.kernel.accessAllowed ? 'block' : 'none';\n",
              "\n",
              "        async function convertToInteractive(key) {\n",
              "          const element = document.querySelector('#df-c701c375-33b3-402c-87c4-c0987f254026');\n",
              "          const dataTable =\n",
              "            await google.colab.kernel.invokeFunction('convertToInteractive',\n",
              "                                                     [key], {});\n",
              "          if (!dataTable) return;\n",
              "\n",
              "          const docLinkHtml = 'Like what you see? Visit the ' +\n",
              "            '<a target=\"_blank\" href=https://colab.research.google.com/notebooks/data_table.ipynb>data table notebook</a>'\n",
              "            + ' to learn more about interactive tables.';\n",
              "          element.innerHTML = '';\n",
              "          dataTable['output_type'] = 'display_data';\n",
              "          await google.colab.output.renderOutput(dataTable, element);\n",
              "          const docLink = document.createElement('div');\n",
              "          docLink.innerHTML = docLinkHtml;\n",
              "          element.appendChild(docLink);\n",
              "        }\n",
              "      </script>\n",
              "    </div>\n",
              "  </div>\n",
              "  "
            ]
          },
          "metadata": {},
          "execution_count": 8
        }
      ]
    },
    {
      "cell_type": "markdown",
      "source": [
        "# Separating the training data and test data\n"
      ],
      "metadata": {
        "id": "nLQ_iw56KRVd"
      }
    },
    {
      "cell_type": "code",
      "source": [
        "# Separating the training data and test data\n",
        "\n",
        "X_training, X_test, Y_training, Y_test = train_test_split(X, Y, test_size = 0.3, random_state = 7)\n"
      ],
      "metadata": {
        "id": "0sOwr-oMI_Qt"
      },
      "execution_count": 9,
      "outputs": []
    },
    {
      "cell_type": "markdown",
      "source": [
        "# Lightgbm "
      ],
      "metadata": {
        "id": "6Se2rmZIw6r3"
      }
    },
    {
      "cell_type": "markdown",
      "source": [
        "## Lightgbm - Classifier\n",
        "\n"
      ],
      "metadata": {
        "id": "AwCQm-Cknysw"
      }
    },
    {
      "cell_type": "code",
      "source": [
        "import os\n",
        "  \n",
        "n_cpu = os.cpu_count()\n",
        "print(\"Number of CPUs in the system:\", n_cpu)"
      ],
      "metadata": {
        "colab": {
          "base_uri": "https://localhost:8080/"
        },
        "id": "_6xMsUe1Vek-",
        "outputId": "cc900cd3-7077-46c0-b7d7-083d295835e1"
      },
      "execution_count": 10,
      "outputs": [
        {
          "output_type": "stream",
          "name": "stdout",
          "text": [
            "Number of CPUs in the system: 2\n"
          ]
        }
      ]
    },
    {
      "cell_type": "code",
      "source": [
        "#defining values to folds\n",
        "\n",
        "num_folds = 10\n",
        "seed = 7\n",
        "kf = KFold(n_splits=num_folds, shuffle = True, random_state=seed)\n",
        "\n",
        "\n",
        "#scoring methods\n",
        "\n",
        "custom_scorer = {'accuracy': make_scorer(accuracy_score),\n",
        "                 'precision': make_scorer(precision_score, average='macro'),\n",
        "                 'recall': make_scorer(recall_score, average='macro'),\n",
        "                 'f1': make_scorer(f1_score, average='macro'),\n",
        "                 'roc_auc' : make_scorer(roc_auc_score, average='macro')\n",
        "                 }\n"
      ],
      "metadata": {
        "id": "GpAuopS3n29H"
      },
      "execution_count": 11,
      "outputs": []
    },
    {
      "cell_type": "code",
      "source": [
        "#Classifier test multiples evaluation metricas\n",
        "\n",
        "lgbm_classifier = lgb.LGBMClassifier()\n",
        "cv_results = cross_validate(lgbm_classifier, X_training, Y_training, cv = kf, scoring=custom_scorer)\n",
        "\n"
      ],
      "metadata": {
        "id": "VOOUC7xBb1gM"
      },
      "execution_count": 12,
      "outputs": []
    },
    {
      "cell_type": "code",
      "source": [
        "cv_results = pd.DataFrame( data = cv_results)\n",
        "\n",
        "cv_results.to_csv(r\"lgbm_cv_results.csv\", index=None, sep=\" \", mode=\"a\")"
      ],
      "metadata": {
        "id": "3_uqwuuiCVzm"
      },
      "execution_count": null,
      "outputs": []
    },
    {
      "cell_type": "code",
      "source": [
        "# Print the results\n",
        "print(\"Precision: \", cv_results['test_precision'].mean())\n",
        "print(\"Recall: \", cv_results['test_recall'].mean())\n",
        "print(\"F1 Score: \", cv_results['test_f1'].mean())\n",
        "print(\"ROC AUC: \", cv_results['test_roc_auc'].mean())\n",
        "print(\"Accuracy: \", cv_results['test_accuracy'].mean())\n"
      ],
      "metadata": {
        "colab": {
          "base_uri": "https://localhost:8080/"
        },
        "id": "7i4ggwv4AQ04",
        "outputId": "56651456-d0c7-48bd-9096-59b34f0a6696"
      },
      "execution_count": 13,
      "outputs": [
        {
          "output_type": "stream",
          "name": "stdout",
          "text": [
            "Precision:  0.8640464925543094\n",
            "Recall:  0.8640099702906314\n",
            "F1 Score:  0.8640019397354856\n",
            "ROC AUC:  0.8640099702906314\n",
            "Accuracy:  0.8640062715768693\n"
          ]
        }
      ]
    },
    {
      "cell_type": "code",
      "source": [
        "# Confusion Matrix\n",
        "lgbm_classifier.fit(X_training,Y_training)\n",
        "confusion_matrix(Y, lgbm_classifier.predict(X))"
      ],
      "metadata": {
        "id": "oSRz64UyAW3t"
      },
      "execution_count": null,
      "outputs": []
    },
    {
      "cell_type": "markdown",
      "source": [
        "### Bagging"
      ],
      "metadata": {
        "id": "25vLlr6gpfDx"
      }
    },
    {
      "cell_type": "code",
      "source": [
        "#Classifier\n",
        "\n",
        "lgbm_classifier_rf = lgb.LGBMClassifier(boosting_type='rf', bagging_freq=1, bagging_fraction=0.8)\n",
        "lgbm_cv_results_rf = cross_validate(lgbm_classifier_rf, X_training, Y_training, cv = kf, scoring=custom_scorer)\n",
        " \n"
      ],
      "metadata": {
        "id": "PyqCrvniuAAr"
      },
      "execution_count": null,
      "outputs": []
    },
    {
      "cell_type": "code",
      "source": [
        "lgbm_cv_results_rf = pd.DataFrame( data = lgbm_cv_results_rf)\n",
        "\n",
        "lgbm_cv_results_rf.to_csv(r\"lgbm_cv_results_rf.csv\", index=None, sep=\" \", mode=\"a\")"
      ],
      "metadata": {
        "id": "tII-wzdd-ZGy"
      },
      "execution_count": null,
      "outputs": []
    },
    {
      "cell_type": "code",
      "source": [
        "# Print the results\n",
        "print(\"Precision: \", lgbm_cv_results_rf['test_precision'].mean())\n",
        "print(\"Recall: \", lgbm_cv_results_rf['test_recall'].mean())\n",
        "print(\"F1 Score: \", lgbm_cv_results_rf['test_f1'].mean())\n",
        "print(\"ROC AUC: \", lgbm_cv_results_rf['test_roc_auc'].mean())\n",
        "print(\"Accuracy: \", lgbm_cv_results_rf['test_accuracy'].mean())"
      ],
      "metadata": {
        "colab": {
          "base_uri": "https://localhost:8080/"
        },
        "id": "s-ZSJPxZoSTm",
        "outputId": "16f60157-1418-47ba-db8f-ed80656d4266"
      },
      "execution_count": null,
      "outputs": [
        {
          "output_type": "stream",
          "name": "stdout",
          "text": [
            "Precision:  0.6806135079788265\n",
            "Recall:  0.6798766485467592\n",
            "F1 Score:  0.679538374213273\n",
            "ROC AUC:  0.6798766485467592\n",
            "Accuracy:  0.6798628582378424\n"
          ]
        }
      ]
    },
    {
      "cell_type": "markdown",
      "source": [
        "### Dart"
      ],
      "metadata": {
        "id": "StLHEGUkrxDe"
      }
    },
    {
      "cell_type": "code",
      "source": [
        "#Classifier\n",
        "\n",
        "lgbm_classifier_dart = lgb.LGBMClassifier(boosting_type='dart')\n",
        "lgbm_cv_results_dart = cross_validate(lgbm_classifier_dart, X_training, Y_training, cv = kf, scoring=custom_scorer)\n",
        " "
      ],
      "metadata": {
        "id": "8kOEh9o9u83c"
      },
      "execution_count": null,
      "outputs": []
    },
    {
      "cell_type": "code",
      "source": [
        "lgbm_cv_results_dart = pd.DataFrame( data = lgbm_cv_results_dart)\n",
        "\n",
        "lgbm_cv_results_dart.to_csv(r\"lgbm_cv_results_dart.csv\", index=None, sep=\" \", mode=\"a\")"
      ],
      "metadata": {
        "id": "wejXzx0Q_f3Z"
      },
      "execution_count": null,
      "outputs": []
    },
    {
      "cell_type": "code",
      "source": [
        "# Print the results\n",
        "print(\"Precision: \", lgbm_cv_results_dart['test_precision'].mean())\n",
        "print(\"Recall: \", lgbm_cv_results_dart['test_recall'].mean())\n",
        "print(\"F1 Score: \", lgbm_cv_results_dart['test_f1'].mean())\n",
        "print(\"ROC AUC: \", lgbm_cv_results_dart['test_roc_auc'].mean())\n",
        "print(\"Accuracy: \", lgbm_cv_results_dart['test_accuracy'].mean())"
      ],
      "metadata": {
        "colab": {
          "base_uri": "https://localhost:8080/"
        },
        "id": "wE-b70gspC1m",
        "outputId": "90994adf-1c84-4f36-8be1-bf03c7550a39"
      },
      "execution_count": null,
      "outputs": [
        {
          "output_type": "stream",
          "name": "stdout",
          "text": [
            "Precision:  0.8342287396441496\n",
            "Recall:  0.8341360796167075\n",
            "F1 Score:  0.8341184284646991\n",
            "ROC AUC:  0.8341360796167075\n",
            "Accuracy:  0.8341306886812927\n"
          ]
        }
      ]
    },
    {
      "cell_type": "markdown",
      "source": [
        "# XGBoost\n",
        "\n",
        "\n"
      ],
      "metadata": {
        "id": "YKI3eAX0TcAU"
      }
    },
    {
      "cell_type": "code",
      "source": [
        "#defining values to folds\n",
        "\n",
        "num_folds = 10\n",
        "seed = 7\n",
        "kf = KFold(n_splits=num_folds, shuffle = True, random_state=seed)"
      ],
      "metadata": {
        "id": "67h280g1qPr_"
      },
      "execution_count": null,
      "outputs": []
    },
    {
      "cell_type": "markdown",
      "source": [
        "## XGBoost - Classifier"
      ],
      "metadata": {
        "id": "IODMuKXtwXoK"
      }
    },
    {
      "cell_type": "code",
      "source": [
        "# classificador\n",
        "\n",
        "classifier_xgb = xgb.XGBClassifier()\n",
        "xgb_cv_results = cross_validate(classifier_xgb, X_training, Y_training, cv = kf, scoring=custom_scorer)\n"
      ],
      "metadata": {
        "id": "cRbMd-seqW3Q"
      },
      "execution_count": null,
      "outputs": []
    },
    {
      "cell_type": "code",
      "source": [
        "xgb_cv_results = pd.DataFrame( data = xgb_cv_results)\n",
        "\n",
        "xgb_cv_results.to_csv(r\"xgb_cv_results.csv\", index=None, sep=\" \", mode=\"a\")"
      ],
      "metadata": {
        "id": "YUysCCDyNTtl"
      },
      "execution_count": null,
      "outputs": []
    },
    {
      "cell_type": "code",
      "source": [
        "# Print the results\n",
        "print(\"Precision: \", xgb_cv_results['test_precision'].mean())\n",
        "print(\"Recall: \", xgb_cv_results['test_recall'].mean())\n",
        "print(\"F1 Score: \", xgb_cv_results['test_f1'].mean())\n",
        "print(\"ROC AUC: \", xgb_cv_results['test_roc_auc'].mean())\n",
        "print(\"Accuracy: \", xgb_cv_results['test_accuracy'].mean())"
      ],
      "metadata": {
        "colab": {
          "base_uri": "https://localhost:8080/"
        },
        "id": "Lrzs4GOGtI5O",
        "outputId": "9344e7a0-a1c6-433e-f476-9988a2baf454"
      },
      "execution_count": null,
      "outputs": [
        {
          "output_type": "stream",
          "name": "stdout",
          "text": [
            "Precision:  0.8117847161823045\n",
            "Recall:  0.8109550314856676\n",
            "F1 Score:  0.8108172373403104\n",
            "ROC AUC:  0.8109550314856676\n",
            "Accuracy:  0.8109427022109591\n"
          ]
        }
      ]
    },
    {
      "cell_type": "markdown",
      "source": [
        "### Dart"
      ],
      "metadata": {
        "id": "4DZmz3yenQwL"
      }
    },
    {
      "cell_type": "code",
      "source": [
        "# classificador\n",
        "\n",
        "classifier_xgb_dart = xgb.XGBClassifier(booster = 'dart')\n",
        "xgb_cv_results_dart = cross_validate(classifier_xgb_dart, X_training, Y_training, cv = kf, scoring=custom_scorer)\n"
      ],
      "metadata": {
        "id": "Ia_nr8uBqb1_"
      },
      "execution_count": null,
      "outputs": []
    },
    {
      "cell_type": "code",
      "source": [
        "xgb_cv_results_dart = pd.DataFrame( data = xgb_cv_results_dart)\n",
        "\n",
        "xgb_cv_results_dart.to_csv(r\"xgb_cv_results_dart.csv\", index=None, sep=\" \", mode=\"a\")"
      ],
      "metadata": {
        "id": "oChfF3gVNj3e"
      },
      "execution_count": null,
      "outputs": []
    },
    {
      "cell_type": "code",
      "source": [
        "# Print the results\n",
        "print(\"Precision: \", xgb_cv_results_dart['test_precision'].mean())\n",
        "print(\"Recall: \", xgb_cv_results_dart['test_recall'].mean())\n",
        "print(\"F1 Score: \", xgb_cv_results_dart['test_f1'].mean())\n",
        "print(\"ROC AUC: \", xgb_cv_results_dart['test_roc_auc'].mean())\n",
        "print(\"Accuracy: \", xgb_cv_results_dart['test_accuracy'].mean())"
      ],
      "metadata": {
        "colab": {
          "base_uri": "https://localhost:8080/"
        },
        "id": "ExkzoGfttU_4",
        "outputId": "10ca0a2b-67fe-48b9-a061-7e6d7c85c94d"
      },
      "execution_count": null,
      "outputs": [
        {
          "output_type": "stream",
          "name": "stdout",
          "text": [
            "Precision:  0.8118649000704488\n",
            "Recall:  0.8110650645173829\n",
            "F1 Score:  0.8109266770866992\n",
            "ROC AUC:  0.8110650645173829\n",
            "Accuracy:  0.8110505082306323\n"
          ]
        }
      ]
    },
    {
      "cell_type": "markdown",
      "source": [
        "### gblinear"
      ],
      "metadata": {
        "id": "AGpgL4din9C6"
      }
    },
    {
      "cell_type": "code",
      "source": [
        "# classificador\n",
        "\n",
        "classifier_xgb_gblinear = xgb.XGBClassifier(booster = 'gblinear')\n",
        "xgb_cv_results_gblinear = cross_validate(classifier_xgb_gblinear, X_training, Y_training, cv = kf, scoring=custom_scorer)\n"
      ],
      "metadata": {
        "id": "NL7GHJjvqf3E"
      },
      "execution_count": null,
      "outputs": []
    },
    {
      "cell_type": "code",
      "source": [
        "xgb_cv_results_gblinear = pd.DataFrame( data = xgb_cv_results_gblinear)\n",
        "\n",
        "xgb_cv_results_gblinear.to_csv(r\"xgb_cv_results_gblinear.csv\", index=None, sep=\" \", mode=\"a\")"
      ],
      "metadata": {
        "id": "JZ9acGWDN9Or"
      },
      "execution_count": null,
      "outputs": []
    },
    {
      "cell_type": "code",
      "source": [
        "# Print the results\n",
        "print(\"Precision: \", xgb_cv_results_gblinear['test_precision'].mean())\n",
        "print(\"Recall: \", xgb_cv_results_gblinear['test_recall'].mean())\n",
        "print(\"F1 Score: \", xgb_cv_results_gblinear['test_f1'].mean())\n",
        "print(\"ROC AUC: \", xgb_cv_results_gblinear['test_roc_auc'].mean())\n",
        "print(\"Accuracy: \", xgb_cv_results_gblinear['test_accuracy'].mean())"
      ],
      "metadata": {
        "colab": {
          "base_uri": "https://localhost:8080/"
        },
        "id": "t-JVrBUVtl5V",
        "outputId": "a5dc8130-d25d-4096-d232-4fff6111750a"
      },
      "execution_count": null,
      "outputs": [
        {
          "output_type": "stream",
          "name": "stdout",
          "text": [
            "Precision:  0.6479868421129271\n",
            "Recall:  0.6477330202079533\n",
            "F1 Score:  0.6475717208996637\n",
            "ROC AUC:  0.6477330202079533\n",
            "Accuracy:  0.6477294711395488\n"
          ]
        }
      ]
    },
    {
      "cell_type": "markdown",
      "source": [
        "\n",
        "# Usual Algorithms"
      ],
      "metadata": {
        "id": "rE7ddnX7t5dd"
      }
    },
    {
      "cell_type": "markdown",
      "source": [
        "### Tuning"
      ],
      "metadata": {
        "id": "tlyZRRrHpYq4"
      }
    },
    {
      "cell_type": "markdown",
      "source": [
        "### Bayes Tuning"
      ],
      "metadata": {
        "id": "Ce4QAjiq2Z99"
      }
    },
    {
      "cell_type": "code",
      "source": [
        "#Bayes Tuning\n",
        "roc_auc = make_scorer(roc_auc_score, greater_is_better=True, needs_threshold=True)\n",
        "# Setting the search space\n",
        "search_spaces = {\n",
        "    'learning_rate': Real(0.01, 1.0, 'log-uniform'),     # Boosting learning rate\n",
        "    'n_estimators': Integer(30, 5000),                   # Number of boosted trees to fit\n",
        "    'num_leaves': Integer(2, 512),                       # Maximum tree leaves for base learners\n",
        "    'max_depth': Integer(-1, 256),                       # Maximum tree depth for base learners, <=0 means no limit\n",
        "    'max_bin': Integer(100, 1000 ),                       # Max number of bins that features values will be bucketed\n",
        "    'subsample': Real(0.01, 1.0, 'uniform'),             # Subsample ratio of the training instance\n",
        "    'subsample_freq': Integer(1, 10),                    # Frequency of subsample, <=0 means no enable\n",
        "    'colsample_bytree': Real(0.01, 1.0, 'uniform'),      # Subsample ratio of columns when constructing each tree\n",
        "    'reg_lambda': Real(1e-9, 100.0, 'log-uniform'),      # L2 regularization\n",
        "    'reg_alpha': Real(1e-9, 100.0, 'log-uniform'),       # L1 regularization\n",
        "    'scale_pos_weight': Real(1.0, 500.0, 'uniform'),     # weighting of the minority class (Only for binary classification)\n",
        "   }\n",
        "\n",
        "Champion_Model = BayesSearchCV(lgbm_classifier,                                    \n",
        "                    search_spaces=search_spaces,                      \n",
        "                    scoring= roc_auc,                           \n",
        "                    cv=kf,                                           \n",
        "                    n_iter=60,                                        # max number of trials\n",
        "                    n_points=3,                                       # number of hyperparameter sets evaluated at the same time\n",
        "                    n_jobs=-1,                                        # number of jobs\n",
        "                    iid=False,                  \n",
        "                    refit=False,                                      \n",
        "                    optimizer_kwargs={'base_estimator': 'GP'},        # optmizer parameters: we use Gaussian Process (GP)\n",
        "                    random_state=0)                                   # random state for replicability\n"
      ],
      "metadata": {
        "id": "GrOMHrfg2SM7"
      },
      "execution_count": null,
      "outputs": []
    },
    {
      "cell_type": "code",
      "source": [
        "Champion_Model.fit(X_training, Y_training)\n",
        "\n",
        "Champion_Model.best_params_"
      ],
      "metadata": {
        "id": "2YD-A83z5Hsj"
      },
      "execution_count": null,
      "outputs": []
    },
    {
      "cell_type": "code",
      "source": [
        "Champion_Model.best_estimator_"
      ],
      "metadata": {
        "id": "rKX07GAJ5TIw"
      },
      "execution_count": null,
      "outputs": []
    },
    {
      "cell_type": "markdown",
      "source": [
        "### Fit"
      ],
      "metadata": {
        "id": "8ROHEm_BvQ1g"
      }
    },
    {
      "cell_type": "code",
      "source": [
        "lgbm_classifier.fit(X_test,Y_test)"
      ],
      "metadata": {
        "id": "EXPjvY3FCRio",
        "colab": {
          "base_uri": "https://localhost:8080/"
        },
        "outputId": "b9238bcc-6a91-4c73-b7b4-acd2ef726f2a"
      },
      "execution_count": null,
      "outputs": [
        {
          "output_type": "execute_result",
          "data": {
            "text/plain": [
              "LGBMClassifier()"
            ]
          },
          "metadata": {},
          "execution_count": 12
        }
      ]
    },
    {
      "cell_type": "code",
      "source": [
        "predict_class = lgbm_classifier.predict(X_test)\n",
        "\n",
        "predict_class[:10]"
      ],
      "metadata": {
        "colab": {
          "base_uri": "https://localhost:8080/"
        },
        "id": "Ew5qraP_v061",
        "outputId": "a336749c-d8c3-402d-ed4b-e31d7cd5059e"
      },
      "execution_count": null,
      "outputs": [
        {
          "output_type": "execute_result",
          "data": {
            "text/plain": [
              "array([1, 0, 1, 0, 1, 1, 1, 1, 1, 1])"
            ]
          },
          "metadata": {},
          "execution_count": 13
        }
      ]
    },
    {
      "cell_type": "code",
      "source": [
        "roc_auc_score(Y_test, lgbm_classifier.predict_proba(X_test)[:, 1])"
      ],
      "metadata": {
        "colab": {
          "base_uri": "https://localhost:8080/"
        },
        "id": "A0fYj7h1Jff2",
        "outputId": "8a70fdff-2f19-4b5d-fd88-6667b4d0766a"
      },
      "execution_count": null,
      "outputs": [
        {
          "output_type": "execute_result",
          "data": {
            "text/plain": [
              "0.9451037777137576"
            ]
          },
          "metadata": {},
          "execution_count": 17
        }
      ]
    },
    {
      "cell_type": "code",
      "source": [
        "# Confusion Matrix\n",
        "lgbm_classifier.fit(X_test,Y_test)\n",
        "confusion_matrix(Y_test, lgbm_classifier.predict(X_test))"
      ],
      "metadata": {
        "colab": {
          "base_uri": "https://localhost:8080/"
        },
        "id": "heC10eIxKsi_",
        "outputId": "3a4d3fff-5d9d-4d06-f83f-23917b85f168"
      },
      "execution_count": null,
      "outputs": [
        {
          "output_type": "execute_result",
          "data": {
            "text/plain": [
              "array([[185133,  29278],\n",
              "       [ 27014, 187942]])"
            ]
          },
          "metadata": {},
          "execution_count": 18
        }
      ]
    }
  ]
}